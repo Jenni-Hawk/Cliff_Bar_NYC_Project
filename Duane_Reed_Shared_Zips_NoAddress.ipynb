{
 "cells": [
  {
   "cell_type": "markdown",
   "id": "5d00c6ea",
   "metadata": {},
   "source": [
    "#### Stripped away address detail, etc to make a csv that is simple for upload to Google Maps lat/long plotting"
   ]
  },
  {
   "cell_type": "code",
   "execution_count": 1,
   "id": "6d971184",
   "metadata": {},
   "outputs": [],
   "source": [
    "import pandas as pd"
   ]
  },
  {
   "cell_type": "code",
   "execution_count": 2,
   "id": "eb9a938c",
   "metadata": {},
   "outputs": [
    {
     "data": {
      "text/html": [
       "<div>\n",
       "<style scoped>\n",
       "    .dataframe tbody tr th:only-of-type {\n",
       "        vertical-align: middle;\n",
       "    }\n",
       "\n",
       "    .dataframe tbody tr th {\n",
       "        vertical-align: top;\n",
       "    }\n",
       "\n",
       "    .dataframe thead th {\n",
       "        text-align: right;\n",
       "    }\n",
       "</style>\n",
       "<table border=\"1\" class=\"dataframe\">\n",
       "  <thead>\n",
       "    <tr style=\"text-align: right;\">\n",
       "      <th></th>\n",
       "      <th>Store No.</th>\n",
       "      <th>Name</th>\n",
       "      <th>Latitude</th>\n",
       "      <th>Longitude</th>\n",
       "      <th>Address</th>\n",
       "      <th>Street</th>\n",
       "      <th>City</th>\n",
       "      <th>State</th>\n",
       "      <th>Zip_Code</th>\n",
       "      <th>County</th>\n",
       "      <th>Phone</th>\n",
       "      <th>Fax</th>\n",
       "      <th>Open Hours</th>\n",
       "      <th>URL</th>\n",
       "      <th>Provider</th>\n",
       "      <th>Updated Date</th>\n",
       "      <th>Country</th>\n",
       "      <th>Status</th>\n",
       "      <th>Direction URL</th>\n",
       "      <th>Stock Ticker</th>\n",
       "    </tr>\n",
       "  </thead>\n",
       "  <tbody>\n",
       "    <tr>\n",
       "      <th>0</th>\n",
       "      <td>14282</td>\n",
       "      <td>Duane Reade Drug Store</td>\n",
       "      <td>40.759732</td>\n",
       "      <td>-73.981051</td>\n",
       "      <td>1251 Avenue Of The Americas, New York, NY, 10020</td>\n",
       "      <td>1251 Avenue Of The Americas</td>\n",
       "      <td>New York</td>\n",
       "      <td>NY</td>\n",
       "      <td>10020</td>\n",
       "      <td>New York</td>\n",
       "      <td>212-391-1105</td>\n",
       "      <td>212-391-1290</td>\n",
       "      <td>NaN</td>\n",
       "      <td>https://www.walgreens.com/locator/duane+reade-...</td>\n",
       "      <td>Duane Reade Pharmacy</td>\n",
       "      <td>2022-03-14</td>\n",
       "      <td>USA</td>\n",
       "      <td>Open</td>\n",
       "      <td>https://www.google.com/maps/dir/Current+Locati...</td>\n",
       "      <td>DRD:NASDAQ</td>\n",
       "    </tr>\n",
       "    <tr>\n",
       "      <th>1</th>\n",
       "      <td>14503</td>\n",
       "      <td>Duane Reade Drug Store</td>\n",
       "      <td>40.752112</td>\n",
       "      <td>-73.973156</td>\n",
       "      <td>711 3rd Ave, New York, NY, 10017</td>\n",
       "      <td>711 3rd Ave</td>\n",
       "      <td>New York</td>\n",
       "      <td>NY</td>\n",
       "      <td>10017</td>\n",
       "      <td>New York</td>\n",
       "      <td>212-599-4351</td>\n",
       "      <td>212-370-9672</td>\n",
       "      <td>sunday :- 24 hours | monday :- 24 hours | tues...</td>\n",
       "      <td>https://www.walgreens.com/locator/duane+reade-...</td>\n",
       "      <td>Duane Reade Pharmacy</td>\n",
       "      <td>2022-03-14</td>\n",
       "      <td>USA</td>\n",
       "      <td>Open</td>\n",
       "      <td>https://www.google.com/maps/dir/Current+Locati...</td>\n",
       "      <td>DRD:NASDAQ</td>\n",
       "    </tr>\n",
       "  </tbody>\n",
       "</table>\n",
       "</div>"
      ],
      "text/plain": [
       "   Store No.                    Name   Latitude  Longitude  \\\n",
       "0      14282  Duane Reade Drug Store  40.759732 -73.981051   \n",
       "1      14503  Duane Reade Drug Store  40.752112 -73.973156   \n",
       "\n",
       "                                            Address  \\\n",
       "0  1251 Avenue Of The Americas, New York, NY, 10020   \n",
       "1                  711 3rd Ave, New York, NY, 10017   \n",
       "\n",
       "                        Street      City State  Zip_Code    County  \\\n",
       "0  1251 Avenue Of The Americas  New York    NY     10020  New York   \n",
       "1                  711 3rd Ave  New York    NY     10017  New York   \n",
       "\n",
       "          Phone           Fax  \\\n",
       "0  212-391-1105  212-391-1290   \n",
       "1  212-599-4351  212-370-9672   \n",
       "\n",
       "                                          Open Hours  \\\n",
       "0                                                NaN   \n",
       "1  sunday :- 24 hours | monday :- 24 hours | tues...   \n",
       "\n",
       "                                                 URL              Provider  \\\n",
       "0  https://www.walgreens.com/locator/duane+reade-...  Duane Reade Pharmacy   \n",
       "1  https://www.walgreens.com/locator/duane+reade-...  Duane Reade Pharmacy   \n",
       "\n",
       "  Updated Date Country Status  \\\n",
       "0   2022-03-14     USA   Open   \n",
       "1   2022-03-14     USA   Open   \n",
       "\n",
       "                                       Direction URL Stock Ticker  \n",
       "0  https://www.google.com/maps/dir/Current+Locati...   DRD:NASDAQ  \n",
       "1  https://www.google.com/maps/dir/Current+Locati...   DRD:NASDAQ  "
      ]
     },
     "execution_count": 2,
     "metadata": {},
     "output_type": "execute_result"
    }
   ],
   "source": [
    "shared_zips = pd.read_csv('/Users/jennihawk/Desktop/Cliffbar/Data/Duane_Reed_MTA_Zip_Wrk/Duane_Reade_Pharmacy_USA.csv')\n",
    "shared_zips.head(2)"
   ]
  },
  {
   "cell_type": "code",
   "execution_count": 3,
   "id": "68be307a",
   "metadata": {},
   "outputs": [],
   "source": [
    "shared_zips.drop(['Store No.', 'Address'], axis=1, inplace=True)"
   ]
  },
  {
   "cell_type": "code",
   "execution_count": 4,
   "id": "bce6f5f3",
   "metadata": {},
   "outputs": [],
   "source": [
    "shared_zips.drop(['Street', 'City', 'State', 'County', 'Phone', 'Fax', 'Open Hours', 'URL'], axis=1, inplace=True)"
   ]
  },
  {
   "cell_type": "code",
   "execution_count": 5,
   "id": "ba48b467",
   "metadata": {},
   "outputs": [],
   "source": [
    "shared_zips.drop(['Updated Date', 'Direction URL', 'Stock Ticker'], axis=1, inplace=True)"
   ]
  },
  {
   "cell_type": "code",
   "execution_count": 6,
   "id": "4162c757",
   "metadata": {},
   "outputs": [],
   "source": [
    "#shared_zips.drop(['Provider', 'Country', 'Status'], axis=1, inplace=True)"
   ]
  },
  {
   "cell_type": "markdown",
   "id": "543910e7",
   "metadata": {},
   "source": [
    "### All Duane Reeds within Top MTA Locations"
   ]
  },
  {
   "cell_type": "code",
   "execution_count": 7,
   "id": "d653f50f",
   "metadata": {},
   "outputs": [
    {
     "data": {
      "text/html": [
       "<div>\n",
       "<style scoped>\n",
       "    .dataframe tbody tr th:only-of-type {\n",
       "        vertical-align: middle;\n",
       "    }\n",
       "\n",
       "    .dataframe tbody tr th {\n",
       "        vertical-align: top;\n",
       "    }\n",
       "\n",
       "    .dataframe thead th {\n",
       "        text-align: right;\n",
       "    }\n",
       "</style>\n",
       "<table border=\"1\" class=\"dataframe\">\n",
       "  <thead>\n",
       "    <tr style=\"text-align: right;\">\n",
       "      <th></th>\n",
       "      <th>Name</th>\n",
       "      <th>Latitude</th>\n",
       "      <th>Longitude</th>\n",
       "      <th>Zip_Code</th>\n",
       "      <th>Provider</th>\n",
       "      <th>Country</th>\n",
       "      <th>Status</th>\n",
       "    </tr>\n",
       "  </thead>\n",
       "  <tbody>\n",
       "    <tr>\n",
       "      <th>1</th>\n",
       "      <td>Duane Reade Drug Store</td>\n",
       "      <td>40.752112</td>\n",
       "      <td>-73.973156</td>\n",
       "      <td>10017</td>\n",
       "      <td>Duane Reade Pharmacy</td>\n",
       "      <td>USA</td>\n",
       "      <td>Open</td>\n",
       "    </tr>\n",
       "    <tr>\n",
       "      <th>7</th>\n",
       "      <td>Duane Reade Drug Store</td>\n",
       "      <td>40.741435</td>\n",
       "      <td>-73.990042</td>\n",
       "      <td>10010</td>\n",
       "      <td>Duane Reade Pharmacy</td>\n",
       "      <td>USA</td>\n",
       "      <td>Open</td>\n",
       "    </tr>\n",
       "    <tr>\n",
       "      <th>9</th>\n",
       "      <td>Duane Reade Drug Store</td>\n",
       "      <td>40.756901</td>\n",
       "      <td>-73.997155</td>\n",
       "      <td>10018</td>\n",
       "      <td>Duane Reade Pharmacy</td>\n",
       "      <td>USA</td>\n",
       "      <td>Open</td>\n",
       "    </tr>\n",
       "    <tr>\n",
       "      <th>12</th>\n",
       "      <td>Duane Reade Drug Store</td>\n",
       "      <td>40.733359</td>\n",
       "      <td>-73.986803</td>\n",
       "      <td>10003</td>\n",
       "      <td>Duane Reade Pharmacy</td>\n",
       "      <td>USA</td>\n",
       "      <td>Open</td>\n",
       "    </tr>\n",
       "    <tr>\n",
       "      <th>13</th>\n",
       "      <td>Duane Reade Drug Store</td>\n",
       "      <td>40.747270</td>\n",
       "      <td>-73.993161</td>\n",
       "      <td>10001</td>\n",
       "      <td>Duane Reade Pharmacy</td>\n",
       "      <td>USA</td>\n",
       "      <td>Open</td>\n",
       "    </tr>\n",
       "    <tr>\n",
       "      <th>18</th>\n",
       "      <td>Duane Reade Drug Store</td>\n",
       "      <td>40.745216</td>\n",
       "      <td>-73.991447</td>\n",
       "      <td>10001</td>\n",
       "      <td>Duane Reade Pharmacy</td>\n",
       "      <td>USA</td>\n",
       "      <td>Open</td>\n",
       "    </tr>\n",
       "    <tr>\n",
       "      <th>34</th>\n",
       "      <td>Duane Reade Drug Store</td>\n",
       "      <td>40.751368</td>\n",
       "      <td>-73.996080</td>\n",
       "      <td>10001</td>\n",
       "      <td>Duane Reade Pharmacy</td>\n",
       "      <td>USA</td>\n",
       "      <td>Open</td>\n",
       "    </tr>\n",
       "    <tr>\n",
       "      <th>44</th>\n",
       "      <td>Duane Reade Drug Store</td>\n",
       "      <td>40.751723</td>\n",
       "      <td>-73.993505</td>\n",
       "      <td>10001</td>\n",
       "      <td>Duane Reade Pharmacy</td>\n",
       "      <td>USA</td>\n",
       "      <td>Open</td>\n",
       "    </tr>\n",
       "    <tr>\n",
       "      <th>50</th>\n",
       "      <td>Duane Reade Drug Store</td>\n",
       "      <td>40.754059</td>\n",
       "      <td>-73.986672</td>\n",
       "      <td>10018</td>\n",
       "      <td>Duane Reade Pharmacy</td>\n",
       "      <td>USA</td>\n",
       "      <td>Open</td>\n",
       "    </tr>\n",
       "    <tr>\n",
       "      <th>52</th>\n",
       "      <td>Duane Reade Drug Store</td>\n",
       "      <td>40.748723</td>\n",
       "      <td>-73.987868</td>\n",
       "      <td>10001</td>\n",
       "      <td>Duane Reade Pharmacy</td>\n",
       "      <td>USA</td>\n",
       "      <td>Open</td>\n",
       "    </tr>\n",
       "    <tr>\n",
       "      <th>55</th>\n",
       "      <td>Duane Reade Drug Store</td>\n",
       "      <td>40.754427</td>\n",
       "      <td>-73.973545</td>\n",
       "      <td>10017</td>\n",
       "      <td>Duane Reade Pharmacy</td>\n",
       "      <td>USA</td>\n",
       "      <td>Open</td>\n",
       "    </tr>\n",
       "    <tr>\n",
       "      <th>58</th>\n",
       "      <td>Duane Reade Drug Store</td>\n",
       "      <td>40.756328</td>\n",
       "      <td>-73.990926</td>\n",
       "      <td>10018</td>\n",
       "      <td>Duane Reade Pharmacy</td>\n",
       "      <td>USA</td>\n",
       "      <td>Open</td>\n",
       "    </tr>\n",
       "    <tr>\n",
       "      <th>67</th>\n",
       "      <td>Walgreen Drug Store</td>\n",
       "      <td>40.752545</td>\n",
       "      <td>-74.002278</td>\n",
       "      <td>10001</td>\n",
       "      <td>Duane Reade Pharmacy</td>\n",
       "      <td>USA</td>\n",
       "      <td>Open</td>\n",
       "    </tr>\n",
       "    <tr>\n",
       "      <th>78</th>\n",
       "      <td>Duane Reade Drug Store</td>\n",
       "      <td>40.740196</td>\n",
       "      <td>-73.986785</td>\n",
       "      <td>10010</td>\n",
       "      <td>Duane Reade Pharmacy</td>\n",
       "      <td>USA</td>\n",
       "      <td>Open</td>\n",
       "    </tr>\n",
       "    <tr>\n",
       "      <th>81</th>\n",
       "      <td>Duane Reade Drug Store</td>\n",
       "      <td>40.750704</td>\n",
       "      <td>-73.987534</td>\n",
       "      <td>10018</td>\n",
       "      <td>Duane Reade Pharmacy</td>\n",
       "      <td>USA</td>\n",
       "      <td>Open</td>\n",
       "    </tr>\n",
       "    <tr>\n",
       "      <th>95</th>\n",
       "      <td>Duane Reade Drug Store</td>\n",
       "      <td>40.752079</td>\n",
       "      <td>-73.970178</td>\n",
       "      <td>10017</td>\n",
       "      <td>Duane Reade Pharmacy</td>\n",
       "      <td>USA</td>\n",
       "      <td>Open</td>\n",
       "    </tr>\n",
       "    <tr>\n",
       "      <th>97</th>\n",
       "      <td>Duane Reade Drug Store</td>\n",
       "      <td>40.734413</td>\n",
       "      <td>-73.990363</td>\n",
       "      <td>10003</td>\n",
       "      <td>Duane Reade Pharmacy</td>\n",
       "      <td>USA</td>\n",
       "      <td>Open</td>\n",
       "    </tr>\n",
       "    <tr>\n",
       "      <th>114</th>\n",
       "      <td>Duane Reade Drug Store</td>\n",
       "      <td>40.776908</td>\n",
       "      <td>-73.949174</td>\n",
       "      <td>10028</td>\n",
       "      <td>Duane Reade Pharmacy</td>\n",
       "      <td>USA</td>\n",
       "      <td>Open</td>\n",
       "    </tr>\n",
       "    <tr>\n",
       "      <th>118</th>\n",
       "      <td>Duane Reade Drug Store</td>\n",
       "      <td>40.777976</td>\n",
       "      <td>-73.956471</td>\n",
       "      <td>10028</td>\n",
       "      <td>Duane Reade Pharmacy</td>\n",
       "      <td>USA</td>\n",
       "      <td>Open</td>\n",
       "    </tr>\n",
       "    <tr>\n",
       "      <th>121</th>\n",
       "      <td>Duane Reade Drug Store</td>\n",
       "      <td>40.815343</td>\n",
       "      <td>-73.958229</td>\n",
       "      <td>10027</td>\n",
       "      <td>Duane Reade Pharmacy</td>\n",
       "      <td>USA</td>\n",
       "      <td>Open</td>\n",
       "    </tr>\n",
       "  </tbody>\n",
       "</table>\n",
       "</div>"
      ],
      "text/plain": [
       "                       Name   Latitude  Longitude  Zip_Code  \\\n",
       "1    Duane Reade Drug Store  40.752112 -73.973156     10017   \n",
       "7    Duane Reade Drug Store  40.741435 -73.990042     10010   \n",
       "9    Duane Reade Drug Store  40.756901 -73.997155     10018   \n",
       "12   Duane Reade Drug Store  40.733359 -73.986803     10003   \n",
       "13   Duane Reade Drug Store  40.747270 -73.993161     10001   \n",
       "18   Duane Reade Drug Store  40.745216 -73.991447     10001   \n",
       "34   Duane Reade Drug Store  40.751368 -73.996080     10001   \n",
       "44   Duane Reade Drug Store  40.751723 -73.993505     10001   \n",
       "50   Duane Reade Drug Store  40.754059 -73.986672     10018   \n",
       "52   Duane Reade Drug Store  40.748723 -73.987868     10001   \n",
       "55   Duane Reade Drug Store  40.754427 -73.973545     10017   \n",
       "58   Duane Reade Drug Store  40.756328 -73.990926     10018   \n",
       "67      Walgreen Drug Store  40.752545 -74.002278     10001   \n",
       "78   Duane Reade Drug Store  40.740196 -73.986785     10010   \n",
       "81   Duane Reade Drug Store  40.750704 -73.987534     10018   \n",
       "95   Duane Reade Drug Store  40.752079 -73.970178     10017   \n",
       "97   Duane Reade Drug Store  40.734413 -73.990363     10003   \n",
       "114  Duane Reade Drug Store  40.776908 -73.949174     10028   \n",
       "118  Duane Reade Drug Store  40.777976 -73.956471     10028   \n",
       "121  Duane Reade Drug Store  40.815343 -73.958229     10027   \n",
       "\n",
       "                 Provider Country Status  \n",
       "1    Duane Reade Pharmacy     USA   Open  \n",
       "7    Duane Reade Pharmacy     USA   Open  \n",
       "9    Duane Reade Pharmacy     USA   Open  \n",
       "12   Duane Reade Pharmacy     USA   Open  \n",
       "13   Duane Reade Pharmacy     USA   Open  \n",
       "18   Duane Reade Pharmacy     USA   Open  \n",
       "34   Duane Reade Pharmacy     USA   Open  \n",
       "44   Duane Reade Pharmacy     USA   Open  \n",
       "50   Duane Reade Pharmacy     USA   Open  \n",
       "52   Duane Reade Pharmacy     USA   Open  \n",
       "55   Duane Reade Pharmacy     USA   Open  \n",
       "58   Duane Reade Pharmacy     USA   Open  \n",
       "67   Duane Reade Pharmacy     USA   Open  \n",
       "78   Duane Reade Pharmacy     USA   Open  \n",
       "81   Duane Reade Pharmacy     USA   Open  \n",
       "95   Duane Reade Pharmacy     USA   Open  \n",
       "97   Duane Reade Pharmacy     USA   Open  \n",
       "114  Duane Reade Pharmacy     USA   Open  \n",
       "118  Duane Reade Pharmacy     USA   Open  \n",
       "121  Duane Reade Pharmacy     USA   Open  "
      ]
     },
     "execution_count": 7,
     "metadata": {},
     "output_type": "execute_result"
    }
   ],
   "source": [
    "filter = [10001, 10017, 10010, 10028, 10018, 10003, 10027]\n",
    "df_new = shared_zips[shared_zips[\"Zip_Code\"].isin(filter)]\n",
    "df_new"
   ]
  },
  {
   "cell_type": "code",
   "execution_count": 8,
   "id": "7313db48",
   "metadata": {},
   "outputs": [],
   "source": [
    "#df_new.to_csv('duane_in_top_mta.csv')"
   ]
  },
  {
   "cell_type": "markdown",
   "id": "d09b2f29",
   "metadata": {},
   "source": [
    "### Number of Duane Reeds by MTA Station "
   ]
  },
  {
   "cell_type": "code",
   "execution_count": 9,
   "id": "5c01e37a",
   "metadata": {},
   "outputs": [
    {
     "data": {
      "text/plain": [
       "6"
      ]
     },
     "execution_count": 9,
     "metadata": {},
     "output_type": "execute_result"
    }
   ],
   "source": [
    "# 34 Penn Station and 34 St Herald Square\n",
    "zip_mask_10001 = shared_zips.Zip_Code == 10001\n",
    "penn_herald = shared_zips[zip_mask_10001]\n",
    "len(penn_herald)"
   ]
  },
  {
   "cell_type": "code",
   "execution_count": 10,
   "id": "d91610e8",
   "metadata": {},
   "outputs": [
    {
     "data": {
      "text/plain": [
       "3"
      ]
     },
     "execution_count": 10,
     "metadata": {},
     "output_type": "execute_result"
    }
   ],
   "source": [
    "# Grand Central 42nd\n",
    "zip_mask_10017 = shared_zips.Zip_Code == 10017\n",
    "grand_cent = shared_zips[zip_mask_10017]\n",
    "len(grand_cent)"
   ]
  },
  {
   "cell_type": "code",
   "execution_count": 11,
   "id": "05d951ca",
   "metadata": {},
   "outputs": [
    {
     "data": {
      "text/plain": [
       "2"
      ]
     },
     "execution_count": 11,
     "metadata": {},
     "output_type": "execute_result"
    }
   ],
   "source": [
    "#23rd St\n",
    "zip_mask_10010 = shared_zips.Zip_Code == 10010\n",
    "twentythird = shared_zips[zip_mask_10010]\n",
    "len(twentythird)"
   ]
  },
  {
   "cell_type": "code",
   "execution_count": 12,
   "id": "16372ee2",
   "metadata": {},
   "outputs": [
    {
     "data": {
      "text/plain": [
       "2"
      ]
     },
     "execution_count": 12,
     "metadata": {},
     "output_type": "execute_result"
    }
   ],
   "source": [
    "#86 St\n",
    "zip_mask_10028 = shared_zips.Zip_Code == 10028 \n",
    "eightysix = shared_zips[zip_mask_10028]\n",
    "len(eightysix)"
   ]
  },
  {
   "cell_type": "code",
   "execution_count": 13,
   "id": "a693e26f",
   "metadata": {},
   "outputs": [
    {
     "data": {
      "text/plain": [
       "4"
      ]
     },
     "execution_count": 13,
     "metadata": {},
     "output_type": "execute_result"
    }
   ],
   "source": [
    "#42 St Port Auth and Times Square 42nd \n",
    "zip_mask_10018 = shared_zips.Zip_Code == 10018 \n",
    "port_times = shared_zips[zip_mask_10018]\n",
    "len(port_times)"
   ]
  },
  {
   "cell_type": "code",
   "execution_count": 14,
   "id": "a4f37480",
   "metadata": {},
   "outputs": [
    {
     "data": {
      "text/plain": [
       "2"
      ]
     },
     "execution_count": 14,
     "metadata": {},
     "output_type": "execute_result"
    }
   ],
   "source": [
    "#14 St Union Square\n",
    "zip_mask_10003 = shared_zips.Zip_Code == 10003 \n",
    "fourteen = shared_zips[zip_mask_10003]\n",
    "len(fourteen)"
   ]
  },
  {
   "cell_type": "code",
   "execution_count": 15,
   "id": "a25e823b",
   "metadata": {},
   "outputs": [
    {
     "data": {
      "text/plain": [
       "1"
      ]
     },
     "execution_count": 15,
     "metadata": {},
     "output_type": "execute_result"
    }
   ],
   "source": [
    "#125 St - Harlem # of Duane Reed Locations\n",
    "zip_mask_10027 = shared_zips.Zip_Code == 10027\n",
    "harlem = shared_zips[zip_mask_10027]\n",
    "len(harlem) "
   ]
  },
  {
   "cell_type": "code",
   "execution_count": null,
   "id": "a1630666",
   "metadata": {},
   "outputs": [],
   "source": []
  }
 ],
 "metadata": {
  "kernelspec": {
   "display_name": "Python [conda env:metis] *",
   "language": "python",
   "name": "conda-env-metis-py"
  },
  "language_info": {
   "codemirror_mode": {
    "name": "ipython",
    "version": 3
   },
   "file_extension": ".py",
   "mimetype": "text/x-python",
   "name": "python",
   "nbconvert_exporter": "python",
   "pygments_lexer": "ipython3",
   "version": "3.10.4"
  }
 },
 "nbformat": 4,
 "nbformat_minor": 5
}
