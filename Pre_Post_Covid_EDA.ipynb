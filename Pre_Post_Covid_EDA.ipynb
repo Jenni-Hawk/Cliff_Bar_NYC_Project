{
 "cells": [
  {
   "cell_type": "markdown",
   "id": "0226ff05",
   "metadata": {},
   "source": [
    "### PreCovid vs Post Covid Analysis\n",
    "\n",
    "- Keeps base code that determines how turnstiles are combined and summed and how they're created into stations\n",
    "- Import pre and post covid data from 1/4/2020 - 3/28/2020 and 1/29/2022-3/19/2022\n",
    "- Create cells that isloate Feb 2020 and Feb 2021 to analyze pre and post covid data"
   ]
  },
  {
   "cell_type": "code",
   "execution_count": 1,
   "id": "18b0c1fc",
   "metadata": {},
   "outputs": [],
   "source": [
    "import pandas as pd \n",
    "import numpy as np\n",
    "import matplotlib.pyplot as plt\n",
    "import seaborn as sns"
   ]
  },
  {
   "cell_type": "code",
   "execution_count": 2,
   "id": "4d09484a",
   "metadata": {},
   "outputs": [
    {
     "data": {
      "text/html": [
       "<div>\n",
       "<style scoped>\n",
       "    .dataframe tbody tr th:only-of-type {\n",
       "        vertical-align: middle;\n",
       "    }\n",
       "\n",
       "    .dataframe tbody tr th {\n",
       "        vertical-align: top;\n",
       "    }\n",
       "\n",
       "    .dataframe thead th {\n",
       "        text-align: right;\n",
       "    }\n",
       "</style>\n",
       "<table border=\"1\" class=\"dataframe\">\n",
       "  <thead>\n",
       "    <tr style=\"text-align: right;\">\n",
       "      <th></th>\n",
       "      <th>Unnamed: 0</th>\n",
       "      <th>C/A</th>\n",
       "      <th>UNIT</th>\n",
       "      <th>SCP</th>\n",
       "      <th>STATION</th>\n",
       "      <th>LINENAME</th>\n",
       "      <th>DIVISION</th>\n",
       "      <th>DATE</th>\n",
       "      <th>TIME</th>\n",
       "      <th>DESC</th>\n",
       "      <th>ENTRIES</th>\n",
       "      <th>EXITS</th>\n",
       "      <th>DATE_TIME</th>\n",
       "    </tr>\n",
       "  </thead>\n",
       "  <tbody>\n",
       "    <tr>\n",
       "      <th>0</th>\n",
       "      <td>0</td>\n",
       "      <td>A002</td>\n",
       "      <td>R051</td>\n",
       "      <td>02-00-00</td>\n",
       "      <td>59 ST</td>\n",
       "      <td>NQR456W</td>\n",
       "      <td>BMT</td>\n",
       "      <td>2022-03-12</td>\n",
       "      <td>03:00:00</td>\n",
       "      <td>REGULAR</td>\n",
       "      <td>7693605</td>\n",
       "      <td>2677444</td>\n",
       "      <td>2022-03-12 03:00:00</td>\n",
       "    </tr>\n",
       "    <tr>\n",
       "      <th>1</th>\n",
       "      <td>1</td>\n",
       "      <td>A002</td>\n",
       "      <td>R051</td>\n",
       "      <td>02-00-00</td>\n",
       "      <td>59 ST</td>\n",
       "      <td>NQR456W</td>\n",
       "      <td>BMT</td>\n",
       "      <td>2022-03-12</td>\n",
       "      <td>07:00:00</td>\n",
       "      <td>REGULAR</td>\n",
       "      <td>7693608</td>\n",
       "      <td>2677454</td>\n",
       "      <td>2022-03-12 07:00:00</td>\n",
       "    </tr>\n",
       "    <tr>\n",
       "      <th>2</th>\n",
       "      <td>2</td>\n",
       "      <td>A002</td>\n",
       "      <td>R051</td>\n",
       "      <td>02-00-00</td>\n",
       "      <td>59 ST</td>\n",
       "      <td>NQR456W</td>\n",
       "      <td>BMT</td>\n",
       "      <td>2022-03-12</td>\n",
       "      <td>11:00:00</td>\n",
       "      <td>REGULAR</td>\n",
       "      <td>7693627</td>\n",
       "      <td>2677547</td>\n",
       "      <td>2022-03-12 11:00:00</td>\n",
       "    </tr>\n",
       "    <tr>\n",
       "      <th>3</th>\n",
       "      <td>3</td>\n",
       "      <td>A002</td>\n",
       "      <td>R051</td>\n",
       "      <td>02-00-00</td>\n",
       "      <td>59 ST</td>\n",
       "      <td>NQR456W</td>\n",
       "      <td>BMT</td>\n",
       "      <td>2022-03-12</td>\n",
       "      <td>15:00:00</td>\n",
       "      <td>REGULAR</td>\n",
       "      <td>7693672</td>\n",
       "      <td>2677621</td>\n",
       "      <td>2022-03-12 15:00:00</td>\n",
       "    </tr>\n",
       "    <tr>\n",
       "      <th>4</th>\n",
       "      <td>4</td>\n",
       "      <td>A002</td>\n",
       "      <td>R051</td>\n",
       "      <td>02-00-00</td>\n",
       "      <td>59 ST</td>\n",
       "      <td>NQR456W</td>\n",
       "      <td>BMT</td>\n",
       "      <td>2022-03-12</td>\n",
       "      <td>19:00:00</td>\n",
       "      <td>REGULAR</td>\n",
       "      <td>7693730</td>\n",
       "      <td>2677683</td>\n",
       "      <td>2022-03-12 19:00:00</td>\n",
       "    </tr>\n",
       "  </tbody>\n",
       "</table>\n",
       "</div>"
      ],
      "text/plain": [
       "   Unnamed: 0   C/A  UNIT       SCP STATION LINENAME DIVISION       DATE  \\\n",
       "0           0  A002  R051  02-00-00   59 ST  NQR456W      BMT 2022-03-12   \n",
       "1           1  A002  R051  02-00-00   59 ST  NQR456W      BMT 2022-03-12   \n",
       "2           2  A002  R051  02-00-00   59 ST  NQR456W      BMT 2022-03-12   \n",
       "3           3  A002  R051  02-00-00   59 ST  NQR456W      BMT 2022-03-12   \n",
       "4           4  A002  R051  02-00-00   59 ST  NQR456W      BMT 2022-03-12   \n",
       "\n",
       "       TIME     DESC  ENTRIES    EXITS           DATE_TIME  \n",
       "0  03:00:00  REGULAR  7693605  2677444 2022-03-12 03:00:00  \n",
       "1  07:00:00  REGULAR  7693608  2677454 2022-03-12 07:00:00  \n",
       "2  11:00:00  REGULAR  7693627  2677547 2022-03-12 11:00:00  \n",
       "3  15:00:00  REGULAR  7693672  2677621 2022-03-12 15:00:00  \n",
       "4  19:00:00  REGULAR  7693730  2677683 2022-03-12 19:00:00  "
      ]
     },
     "execution_count": 2,
     "metadata": {},
     "output_type": "execute_result"
    }
   ],
   "source": [
    "# csv includes week 1/4/2020 - 3/28/2020 and 1/29/2022 - 3/19/2022\n",
    "turnstiles_df = pd.read_csv('/Users/jennihawk/Desktop/Cliffbar/Pre_Covid_Work/pre_covid_turnstiles_cleaned.csv',parse_dates=['DATE','DATE_TIME'])\n",
    "turnstiles_df.head()"
   ]
  },
  {
   "cell_type": "code",
   "execution_count": 3,
   "id": "8e095d66",
   "metadata": {},
   "outputs": [
    {
     "name": "stdout",
     "output_type": "stream",
     "text": [
      "<class 'pandas.core.frame.DataFrame'>\n",
      "RangeIndex: 4145733 entries, 0 to 4145732\n",
      "Data columns (total 13 columns):\n",
      " #   Column      Dtype         \n",
      "---  ------      -----         \n",
      " 0   Unnamed: 0  int64         \n",
      " 1   C/A         object        \n",
      " 2   UNIT        object        \n",
      " 3   SCP         object        \n",
      " 4   STATION     object        \n",
      " 5   LINENAME    object        \n",
      " 6   DIVISION    object        \n",
      " 7   DATE        datetime64[ns]\n",
      " 8   TIME        object        \n",
      " 9   DESC        object        \n",
      " 10  ENTRIES     int64         \n",
      " 11  EXITS       int64         \n",
      " 12  DATE_TIME   datetime64[ns]\n",
      "dtypes: datetime64[ns](2), int64(3), object(8)\n",
      "memory usage: 411.2+ MB\n"
     ]
    }
   ],
   "source": [
    "turnstiles_df.info()"
   ]
  },
  {
   "cell_type": "markdown",
   "id": "18a778e0",
   "metadata": {},
   "source": [
    "### Look at a specific turnstile on a specific date\n",
    "\n",
    "Looks like each row represents a turnstile (identified by a combination of the C/A, UNIT, SCP, and STATION columns) at a specific time -- approximately four hours apart. The ENTRIES column represents cumulative entries at that point in time."
   ]
  },
  {
   "cell_type": "code",
   "execution_count": 4,
   "id": "e6ef3ff9",
   "metadata": {},
   "outputs": [
    {
     "data": {
      "text/html": [
       "<div>\n",
       "<style scoped>\n",
       "    .dataframe tbody tr th:only-of-type {\n",
       "        vertical-align: middle;\n",
       "    }\n",
       "\n",
       "    .dataframe tbody tr th {\n",
       "        vertical-align: top;\n",
       "    }\n",
       "\n",
       "    .dataframe thead th {\n",
       "        text-align: right;\n",
       "    }\n",
       "</style>\n",
       "<table border=\"1\" class=\"dataframe\">\n",
       "  <thead>\n",
       "    <tr style=\"text-align: right;\">\n",
       "      <th></th>\n",
       "      <th>Unnamed: 0</th>\n",
       "      <th>C/A</th>\n",
       "      <th>UNIT</th>\n",
       "      <th>SCP</th>\n",
       "      <th>STATION</th>\n",
       "      <th>LINENAME</th>\n",
       "      <th>DIVISION</th>\n",
       "      <th>DATE</th>\n",
       "      <th>TIME</th>\n",
       "      <th>DESC</th>\n",
       "      <th>ENTRIES</th>\n",
       "      <th>EXITS</th>\n",
       "      <th>DATE_TIME</th>\n",
       "    </tr>\n",
       "  </thead>\n",
       "  <tbody>\n",
       "    <tr>\n",
       "      <th>1259513</th>\n",
       "      <td>1259514</td>\n",
       "      <td>A011</td>\n",
       "      <td>R080</td>\n",
       "      <td>01-00-00</td>\n",
       "      <td>57 ST-7 AV</td>\n",
       "      <td>NQRW</td>\n",
       "      <td>BMT</td>\n",
       "      <td>2022-01-29</td>\n",
       "      <td>03:00:00</td>\n",
       "      <td>REGULAR</td>\n",
       "      <td>537905</td>\n",
       "      <td>1925956</td>\n",
       "      <td>2022-01-29 03:00:00</td>\n",
       "    </tr>\n",
       "    <tr>\n",
       "      <th>1259514</th>\n",
       "      <td>1259515</td>\n",
       "      <td>A011</td>\n",
       "      <td>R080</td>\n",
       "      <td>01-00-00</td>\n",
       "      <td>57 ST-7 AV</td>\n",
       "      <td>NQRW</td>\n",
       "      <td>BMT</td>\n",
       "      <td>2022-01-29</td>\n",
       "      <td>07:00:00</td>\n",
       "      <td>REGULAR</td>\n",
       "      <td>537907</td>\n",
       "      <td>1925982</td>\n",
       "      <td>2022-01-29 07:00:00</td>\n",
       "    </tr>\n",
       "    <tr>\n",
       "      <th>1259515</th>\n",
       "      <td>1259516</td>\n",
       "      <td>A011</td>\n",
       "      <td>R080</td>\n",
       "      <td>01-00-00</td>\n",
       "      <td>57 ST-7 AV</td>\n",
       "      <td>NQRW</td>\n",
       "      <td>BMT</td>\n",
       "      <td>2022-01-29</td>\n",
       "      <td>11:00:00</td>\n",
       "      <td>REGULAR</td>\n",
       "      <td>537911</td>\n",
       "      <td>1926114</td>\n",
       "      <td>2022-01-29 11:00:00</td>\n",
       "    </tr>\n",
       "    <tr>\n",
       "      <th>1259516</th>\n",
       "      <td>1259517</td>\n",
       "      <td>A011</td>\n",
       "      <td>R080</td>\n",
       "      <td>01-00-00</td>\n",
       "      <td>57 ST-7 AV</td>\n",
       "      <td>NQRW</td>\n",
       "      <td>BMT</td>\n",
       "      <td>2022-01-29</td>\n",
       "      <td>15:00:00</td>\n",
       "      <td>REGULAR</td>\n",
       "      <td>537922</td>\n",
       "      <td>1926334</td>\n",
       "      <td>2022-01-29 15:00:00</td>\n",
       "    </tr>\n",
       "    <tr>\n",
       "      <th>1259517</th>\n",
       "      <td>1259518</td>\n",
       "      <td>A011</td>\n",
       "      <td>R080</td>\n",
       "      <td>01-00-00</td>\n",
       "      <td>57 ST-7 AV</td>\n",
       "      <td>NQRW</td>\n",
       "      <td>BMT</td>\n",
       "      <td>2022-01-29</td>\n",
       "      <td>19:00:00</td>\n",
       "      <td>REGULAR</td>\n",
       "      <td>537945</td>\n",
       "      <td>1926599</td>\n",
       "      <td>2022-01-29 19:00:00</td>\n",
       "    </tr>\n",
       "    <tr>\n",
       "      <th>1259518</th>\n",
       "      <td>1259519</td>\n",
       "      <td>A011</td>\n",
       "      <td>R080</td>\n",
       "      <td>01-00-00</td>\n",
       "      <td>57 ST-7 AV</td>\n",
       "      <td>NQRW</td>\n",
       "      <td>BMT</td>\n",
       "      <td>2022-01-29</td>\n",
       "      <td>23:00:00</td>\n",
       "      <td>REGULAR</td>\n",
       "      <td>537972</td>\n",
       "      <td>1926743</td>\n",
       "      <td>2022-01-29 23:00:00</td>\n",
       "    </tr>\n",
       "  </tbody>\n",
       "</table>\n",
       "</div>"
      ],
      "text/plain": [
       "         Unnamed: 0   C/A  UNIT       SCP     STATION LINENAME DIVISION  \\\n",
       "1259513     1259514  A011  R080  01-00-00  57 ST-7 AV     NQRW      BMT   \n",
       "1259514     1259515  A011  R080  01-00-00  57 ST-7 AV     NQRW      BMT   \n",
       "1259515     1259516  A011  R080  01-00-00  57 ST-7 AV     NQRW      BMT   \n",
       "1259516     1259517  A011  R080  01-00-00  57 ST-7 AV     NQRW      BMT   \n",
       "1259517     1259518  A011  R080  01-00-00  57 ST-7 AV     NQRW      BMT   \n",
       "1259518     1259519  A011  R080  01-00-00  57 ST-7 AV     NQRW      BMT   \n",
       "\n",
       "              DATE      TIME     DESC  ENTRIES    EXITS           DATE_TIME  \n",
       "1259513 2022-01-29  03:00:00  REGULAR   537905  1925956 2022-01-29 03:00:00  \n",
       "1259514 2022-01-29  07:00:00  REGULAR   537907  1925982 2022-01-29 07:00:00  \n",
       "1259515 2022-01-29  11:00:00  REGULAR   537911  1926114 2022-01-29 11:00:00  \n",
       "1259516 2022-01-29  15:00:00  REGULAR   537922  1926334 2022-01-29 15:00:00  \n",
       "1259517 2022-01-29  19:00:00  REGULAR   537945  1926599 2022-01-29 19:00:00  \n",
       "1259518 2022-01-29  23:00:00  REGULAR   537972  1926743 2022-01-29 23:00:00  "
      ]
     },
     "execution_count": 4,
     "metadata": {},
     "output_type": "execute_result"
    }
   ],
   "source": [
    "turnstiles_df[(turnstiles_df[\"C/A\"] == \"A011\") & \n",
    "(turnstiles_df[\"UNIT\"] == \"R080\") & \n",
    "(turnstiles_df[\"SCP\"] == \"01-00-00\") & \n",
    "(turnstiles_df[\"STATION\"] == \"57 ST-7 AV\") &\n",
    "(turnstiles_df[\"DATE\"] == \"01/29/2022\")]"
   ]
  },
  {
   "cell_type": "markdown",
   "id": "754ebb52",
   "metadata": {},
   "source": [
    "The maximum ENTRIES value would occur at the last reading of the day. Since rows are listed in descending order of time, we can grab the last reading of the day (located at the top of the group) using the .first() DataFrame method."
   ]
  },
  {
   "cell_type": "code",
   "execution_count": 5,
   "id": "ad0d915a",
   "metadata": {},
   "outputs": [],
   "source": [
    "turnstiles_daily = (turnstiles_df\n",
    "                        .groupby([\"C/A\", \"UNIT\", \"SCP\", \"STATION\", \"DATE\"],as_index=False)\n",
    "                        .ENTRIES.first())"
   ]
  },
  {
   "cell_type": "code",
   "execution_count": 6,
   "id": "e1982833",
   "metadata": {},
   "outputs": [
    {
     "data": {
      "text/html": [
       "<div>\n",
       "<style scoped>\n",
       "    .dataframe tbody tr th:only-of-type {\n",
       "        vertical-align: middle;\n",
       "    }\n",
       "\n",
       "    .dataframe tbody tr th {\n",
       "        vertical-align: top;\n",
       "    }\n",
       "\n",
       "    .dataframe thead th {\n",
       "        text-align: right;\n",
       "    }\n",
       "</style>\n",
       "<table border=\"1\" class=\"dataframe\">\n",
       "  <thead>\n",
       "    <tr style=\"text-align: right;\">\n",
       "      <th></th>\n",
       "      <th>C/A</th>\n",
       "      <th>UNIT</th>\n",
       "      <th>SCP</th>\n",
       "      <th>STATION</th>\n",
       "      <th>DATE</th>\n",
       "      <th>ENTRIES</th>\n",
       "    </tr>\n",
       "  </thead>\n",
       "  <tbody>\n",
       "    <tr>\n",
       "      <th>0</th>\n",
       "      <td>A002</td>\n",
       "      <td>R051</td>\n",
       "      <td>02-00-00</td>\n",
       "      <td>59 ST</td>\n",
       "      <td>2019-12-28</td>\n",
       "      <td>7324295</td>\n",
       "    </tr>\n",
       "    <tr>\n",
       "      <th>1</th>\n",
       "      <td>A002</td>\n",
       "      <td>R051</td>\n",
       "      <td>02-00-00</td>\n",
       "      <td>59 ST</td>\n",
       "      <td>2019-12-29</td>\n",
       "      <td>7325192</td>\n",
       "    </tr>\n",
       "    <tr>\n",
       "      <th>2</th>\n",
       "      <td>A002</td>\n",
       "      <td>R051</td>\n",
       "      <td>02-00-00</td>\n",
       "      <td>59 ST</td>\n",
       "      <td>2019-12-30</td>\n",
       "      <td>7325799</td>\n",
       "    </tr>\n",
       "    <tr>\n",
       "      <th>3</th>\n",
       "      <td>A002</td>\n",
       "      <td>R051</td>\n",
       "      <td>02-00-00</td>\n",
       "      <td>59 ST</td>\n",
       "      <td>2019-12-31</td>\n",
       "      <td>7326977</td>\n",
       "    </tr>\n",
       "    <tr>\n",
       "      <th>4</th>\n",
       "      <td>A002</td>\n",
       "      <td>R051</td>\n",
       "      <td>02-00-00</td>\n",
       "      <td>59 ST</td>\n",
       "      <td>2020-01-01</td>\n",
       "      <td>7328037</td>\n",
       "    </tr>\n",
       "  </tbody>\n",
       "</table>\n",
       "</div>"
      ],
      "text/plain": [
       "    C/A  UNIT       SCP STATION       DATE  ENTRIES\n",
       "0  A002  R051  02-00-00   59 ST 2019-12-28  7324295\n",
       "1  A002  R051  02-00-00   59 ST 2019-12-29  7325192\n",
       "2  A002  R051  02-00-00   59 ST 2019-12-30  7325799\n",
       "3  A002  R051  02-00-00   59 ST 2019-12-31  7326977\n",
       "4  A002  R051  02-00-00   59 ST 2020-01-01  7328037"
      ]
     },
     "execution_count": 6,
     "metadata": {},
     "output_type": "execute_result"
    }
   ],
   "source": [
    "turnstiles_daily.head()"
   ]
  },
  {
   "cell_type": "markdown",
   "id": "72fcf126",
   "metadata": {},
   "source": [
    "### Turnstile Daily Entries\n",
    "the number of new entries gained each day"
   ]
  },
  {
   "cell_type": "code",
   "execution_count": 7,
   "id": "f8775f76",
   "metadata": {},
   "outputs": [
    {
     "name": "stderr",
     "output_type": "stream",
     "text": [
      "/var/folders/_0/21d2kw097h912yp8tr3nkrsm0000gn/T/ipykernel_90403/4241375361.py:1: FutureWarning: Indexing with multiple keys (implicitly converted to a tuple of keys) will be deprecated, use a list instead.\n",
      "  turnstiles_daily[[\"PREV_DATE\", \"PREV_ENTRIES\"]] = (turnstiles_daily\n"
     ]
    }
   ],
   "source": [
    "turnstiles_daily[[\"PREV_DATE\", \"PREV_ENTRIES\"]] = (turnstiles_daily\n",
    "                                                       .groupby([\"C/A\", \"UNIT\", \"SCP\", \"STATION\"])[\"DATE\", \"ENTRIES\"]\n",
    "                                                       .apply(lambda grp: grp.shift(1)))"
   ]
  },
  {
   "cell_type": "code",
   "execution_count": 8,
   "id": "08faf1f7",
   "metadata": {},
   "outputs": [
    {
     "data": {
      "text/html": [
       "<div>\n",
       "<style scoped>\n",
       "    .dataframe tbody tr th:only-of-type {\n",
       "        vertical-align: middle;\n",
       "    }\n",
       "\n",
       "    .dataframe tbody tr th {\n",
       "        vertical-align: top;\n",
       "    }\n",
       "\n",
       "    .dataframe thead th {\n",
       "        text-align: right;\n",
       "    }\n",
       "</style>\n",
       "<table border=\"1\" class=\"dataframe\">\n",
       "  <thead>\n",
       "    <tr style=\"text-align: right;\">\n",
       "      <th></th>\n",
       "      <th>C/A</th>\n",
       "      <th>UNIT</th>\n",
       "      <th>SCP</th>\n",
       "      <th>STATION</th>\n",
       "      <th>DATE</th>\n",
       "      <th>ENTRIES</th>\n",
       "      <th>PREV_DATE</th>\n",
       "      <th>PREV_ENTRIES</th>\n",
       "    </tr>\n",
       "  </thead>\n",
       "  <tbody>\n",
       "    <tr>\n",
       "      <th>0</th>\n",
       "      <td>A002</td>\n",
       "      <td>R051</td>\n",
       "      <td>02-00-00</td>\n",
       "      <td>59 ST</td>\n",
       "      <td>2019-12-28</td>\n",
       "      <td>7324295</td>\n",
       "      <td>NaT</td>\n",
       "      <td>NaN</td>\n",
       "    </tr>\n",
       "    <tr>\n",
       "      <th>1</th>\n",
       "      <td>A002</td>\n",
       "      <td>R051</td>\n",
       "      <td>02-00-00</td>\n",
       "      <td>59 ST</td>\n",
       "      <td>2019-12-29</td>\n",
       "      <td>7325192</td>\n",
       "      <td>2019-12-28</td>\n",
       "      <td>7324295.0</td>\n",
       "    </tr>\n",
       "    <tr>\n",
       "      <th>2</th>\n",
       "      <td>A002</td>\n",
       "      <td>R051</td>\n",
       "      <td>02-00-00</td>\n",
       "      <td>59 ST</td>\n",
       "      <td>2019-12-30</td>\n",
       "      <td>7325799</td>\n",
       "      <td>2019-12-29</td>\n",
       "      <td>7325192.0</td>\n",
       "    </tr>\n",
       "    <tr>\n",
       "      <th>3</th>\n",
       "      <td>A002</td>\n",
       "      <td>R051</td>\n",
       "      <td>02-00-00</td>\n",
       "      <td>59 ST</td>\n",
       "      <td>2019-12-31</td>\n",
       "      <td>7326977</td>\n",
       "      <td>2019-12-30</td>\n",
       "      <td>7325799.0</td>\n",
       "    </tr>\n",
       "    <tr>\n",
       "      <th>4</th>\n",
       "      <td>A002</td>\n",
       "      <td>R051</td>\n",
       "      <td>02-00-00</td>\n",
       "      <td>59 ST</td>\n",
       "      <td>2020-01-01</td>\n",
       "      <td>7328037</td>\n",
       "      <td>2019-12-31</td>\n",
       "      <td>7326977.0</td>\n",
       "    </tr>\n",
       "  </tbody>\n",
       "</table>\n",
       "</div>"
      ],
      "text/plain": [
       "    C/A  UNIT       SCP STATION       DATE  ENTRIES  PREV_DATE  PREV_ENTRIES\n",
       "0  A002  R051  02-00-00   59 ST 2019-12-28  7324295        NaT           NaN\n",
       "1  A002  R051  02-00-00   59 ST 2019-12-29  7325192 2019-12-28     7324295.0\n",
       "2  A002  R051  02-00-00   59 ST 2019-12-30  7325799 2019-12-29     7325192.0\n",
       "3  A002  R051  02-00-00   59 ST 2019-12-31  7326977 2019-12-30     7325799.0\n",
       "4  A002  R051  02-00-00   59 ST 2020-01-01  7328037 2019-12-31     7326977.0"
      ]
     },
     "execution_count": 8,
     "metadata": {},
     "output_type": "execute_result"
    }
   ],
   "source": [
    "# NaT missing datetime values\n",
    "turnstiles_daily.head()"
   ]
  },
  {
   "cell_type": "code",
   "execution_count": 9,
   "id": "f74bec94",
   "metadata": {},
   "outputs": [
    {
     "data": {
      "text/html": [
       "<div>\n",
       "<style scoped>\n",
       "    .dataframe tbody tr th:only-of-type {\n",
       "        vertical-align: middle;\n",
       "    }\n",
       "\n",
       "    .dataframe tbody tr th {\n",
       "        vertical-align: top;\n",
       "    }\n",
       "\n",
       "    .dataframe thead th {\n",
       "        text-align: right;\n",
       "    }\n",
       "</style>\n",
       "<table border=\"1\" class=\"dataframe\">\n",
       "  <thead>\n",
       "    <tr style=\"text-align: right;\">\n",
       "      <th></th>\n",
       "      <th>C/A</th>\n",
       "      <th>UNIT</th>\n",
       "      <th>SCP</th>\n",
       "      <th>STATION</th>\n",
       "      <th>DATE</th>\n",
       "      <th>ENTRIES</th>\n",
       "      <th>PREV_DATE</th>\n",
       "      <th>PREV_ENTRIES</th>\n",
       "    </tr>\n",
       "  </thead>\n",
       "  <tbody>\n",
       "    <tr>\n",
       "      <th>692110</th>\n",
       "      <td>TRAM2</td>\n",
       "      <td>R469</td>\n",
       "      <td>00-05-01</td>\n",
       "      <td>RIT-ROOSEVELT</td>\n",
       "      <td>2022-03-14</td>\n",
       "      <td>0</td>\n",
       "      <td>2022-03-13</td>\n",
       "      <td>0.0</td>\n",
       "    </tr>\n",
       "    <tr>\n",
       "      <th>692111</th>\n",
       "      <td>TRAM2</td>\n",
       "      <td>R469</td>\n",
       "      <td>00-05-01</td>\n",
       "      <td>RIT-ROOSEVELT</td>\n",
       "      <td>2022-03-15</td>\n",
       "      <td>0</td>\n",
       "      <td>2022-03-14</td>\n",
       "      <td>0.0</td>\n",
       "    </tr>\n",
       "    <tr>\n",
       "      <th>692112</th>\n",
       "      <td>TRAM2</td>\n",
       "      <td>R469</td>\n",
       "      <td>00-05-01</td>\n",
       "      <td>RIT-ROOSEVELT</td>\n",
       "      <td>2022-03-16</td>\n",
       "      <td>0</td>\n",
       "      <td>2022-03-15</td>\n",
       "      <td>0.0</td>\n",
       "    </tr>\n",
       "    <tr>\n",
       "      <th>692113</th>\n",
       "      <td>TRAM2</td>\n",
       "      <td>R469</td>\n",
       "      <td>00-05-01</td>\n",
       "      <td>RIT-ROOSEVELT</td>\n",
       "      <td>2022-03-17</td>\n",
       "      <td>0</td>\n",
       "      <td>2022-03-16</td>\n",
       "      <td>0.0</td>\n",
       "    </tr>\n",
       "    <tr>\n",
       "      <th>692114</th>\n",
       "      <td>TRAM2</td>\n",
       "      <td>R469</td>\n",
       "      <td>00-05-01</td>\n",
       "      <td>RIT-ROOSEVELT</td>\n",
       "      <td>2022-03-18</td>\n",
       "      <td>0</td>\n",
       "      <td>2022-03-17</td>\n",
       "      <td>0.0</td>\n",
       "    </tr>\n",
       "  </tbody>\n",
       "</table>\n",
       "</div>"
      ],
      "text/plain": [
       "          C/A  UNIT       SCP        STATION       DATE  ENTRIES  PREV_DATE  \\\n",
       "692110  TRAM2  R469  00-05-01  RIT-ROOSEVELT 2022-03-14        0 2022-03-13   \n",
       "692111  TRAM2  R469  00-05-01  RIT-ROOSEVELT 2022-03-15        0 2022-03-14   \n",
       "692112  TRAM2  R469  00-05-01  RIT-ROOSEVELT 2022-03-16        0 2022-03-15   \n",
       "692113  TRAM2  R469  00-05-01  RIT-ROOSEVELT 2022-03-17        0 2022-03-16   \n",
       "692114  TRAM2  R469  00-05-01  RIT-ROOSEVELT 2022-03-18        0 2022-03-17   \n",
       "\n",
       "        PREV_ENTRIES  \n",
       "692110           0.0  \n",
       "692111           0.0  \n",
       "692112           0.0  \n",
       "692113           0.0  \n",
       "692114           0.0  "
      ]
     },
     "execution_count": 9,
     "metadata": {},
     "output_type": "execute_result"
    }
   ],
   "source": [
    "turnstiles_daily.tail()"
   ]
  },
  {
   "cell_type": "code",
   "execution_count": 10,
   "id": "5d9926bb",
   "metadata": {},
   "outputs": [],
   "source": [
    "# Dropping null NaT values in PREV_DATE. Because there's not a previous value for first row in dataframe. \n",
    "turnstiles_daily.dropna(subset=[\"PREV_DATE\"], axis=0, inplace=True)"
   ]
  },
  {
   "cell_type": "code",
   "execution_count": 11,
   "id": "2603386f",
   "metadata": {},
   "outputs": [
    {
     "data": {
      "text/html": [
       "<div>\n",
       "<style scoped>\n",
       "    .dataframe tbody tr th:only-of-type {\n",
       "        vertical-align: middle;\n",
       "    }\n",
       "\n",
       "    .dataframe tbody tr th {\n",
       "        vertical-align: top;\n",
       "    }\n",
       "\n",
       "    .dataframe thead th {\n",
       "        text-align: right;\n",
       "    }\n",
       "</style>\n",
       "<table border=\"1\" class=\"dataframe\">\n",
       "  <thead>\n",
       "    <tr style=\"text-align: right;\">\n",
       "      <th></th>\n",
       "      <th>C/A</th>\n",
       "      <th>UNIT</th>\n",
       "      <th>SCP</th>\n",
       "      <th>STATION</th>\n",
       "      <th>DATE</th>\n",
       "      <th>ENTRIES</th>\n",
       "      <th>PREV_DATE</th>\n",
       "      <th>PREV_ENTRIES</th>\n",
       "    </tr>\n",
       "  </thead>\n",
       "  <tbody>\n",
       "    <tr>\n",
       "      <th>1</th>\n",
       "      <td>A002</td>\n",
       "      <td>R051</td>\n",
       "      <td>02-00-00</td>\n",
       "      <td>59 ST</td>\n",
       "      <td>2019-12-29</td>\n",
       "      <td>7325192</td>\n",
       "      <td>2019-12-28</td>\n",
       "      <td>7324295.0</td>\n",
       "    </tr>\n",
       "    <tr>\n",
       "      <th>2</th>\n",
       "      <td>A002</td>\n",
       "      <td>R051</td>\n",
       "      <td>02-00-00</td>\n",
       "      <td>59 ST</td>\n",
       "      <td>2019-12-30</td>\n",
       "      <td>7325799</td>\n",
       "      <td>2019-12-29</td>\n",
       "      <td>7325192.0</td>\n",
       "    </tr>\n",
       "    <tr>\n",
       "      <th>3</th>\n",
       "      <td>A002</td>\n",
       "      <td>R051</td>\n",
       "      <td>02-00-00</td>\n",
       "      <td>59 ST</td>\n",
       "      <td>2019-12-31</td>\n",
       "      <td>7326977</td>\n",
       "      <td>2019-12-30</td>\n",
       "      <td>7325799.0</td>\n",
       "    </tr>\n",
       "    <tr>\n",
       "      <th>4</th>\n",
       "      <td>A002</td>\n",
       "      <td>R051</td>\n",
       "      <td>02-00-00</td>\n",
       "      <td>59 ST</td>\n",
       "      <td>2020-01-01</td>\n",
       "      <td>7328037</td>\n",
       "      <td>2019-12-31</td>\n",
       "      <td>7326977.0</td>\n",
       "    </tr>\n",
       "    <tr>\n",
       "      <th>5</th>\n",
       "      <td>A002</td>\n",
       "      <td>R051</td>\n",
       "      <td>02-00-00</td>\n",
       "      <td>59 ST</td>\n",
       "      <td>2020-01-02</td>\n",
       "      <td>7328527</td>\n",
       "      <td>2020-01-01</td>\n",
       "      <td>7328037.0</td>\n",
       "    </tr>\n",
       "  </tbody>\n",
       "</table>\n",
       "</div>"
      ],
      "text/plain": [
       "    C/A  UNIT       SCP STATION       DATE  ENTRIES  PREV_DATE  PREV_ENTRIES\n",
       "1  A002  R051  02-00-00   59 ST 2019-12-29  7325192 2019-12-28     7324295.0\n",
       "2  A002  R051  02-00-00   59 ST 2019-12-30  7325799 2019-12-29     7325192.0\n",
       "3  A002  R051  02-00-00   59 ST 2019-12-31  7326977 2019-12-30     7325799.0\n",
       "4  A002  R051  02-00-00   59 ST 2020-01-01  7328037 2019-12-31     7326977.0\n",
       "5  A002  R051  02-00-00   59 ST 2020-01-02  7328527 2020-01-01     7328037.0"
      ]
     },
     "execution_count": 11,
     "metadata": {},
     "output_type": "execute_result"
    }
   ],
   "source": [
    "turnstiles_daily.head()"
   ]
  },
  {
   "cell_type": "markdown",
   "id": "d0542dba",
   "metadata": {},
   "source": [
    "### Interlude Reverse Entries\n",
    "Look at some more weirdness in the data and think about handling it before we finalize our daily count column"
   ]
  },
  {
   "cell_type": "code",
   "execution_count": 12,
   "id": "9a929962",
   "metadata": {},
   "outputs": [
    {
     "data": {
      "text/html": [
       "<div>\n",
       "<style scoped>\n",
       "    .dataframe tbody tr th:only-of-type {\n",
       "        vertical-align: middle;\n",
       "    }\n",
       "\n",
       "    .dataframe tbody tr th {\n",
       "        vertical-align: top;\n",
       "    }\n",
       "\n",
       "    .dataframe thead th {\n",
       "        text-align: right;\n",
       "    }\n",
       "</style>\n",
       "<table border=\"1\" class=\"dataframe\">\n",
       "  <thead>\n",
       "    <tr style=\"text-align: right;\">\n",
       "      <th></th>\n",
       "      <th>C/A</th>\n",
       "      <th>UNIT</th>\n",
       "      <th>SCP</th>\n",
       "      <th>STATION</th>\n",
       "      <th>DATE</th>\n",
       "      <th>ENTRIES</th>\n",
       "      <th>PREV_DATE</th>\n",
       "      <th>PREV_ENTRIES</th>\n",
       "    </tr>\n",
       "  </thead>\n",
       "  <tbody>\n",
       "    <tr>\n",
       "      <th>651</th>\n",
       "      <td>A002</td>\n",
       "      <td>R051</td>\n",
       "      <td>02-03-02</td>\n",
       "      <td>59 ST</td>\n",
       "      <td>2022-01-29</td>\n",
       "      <td>136720</td>\n",
       "      <td>2020-03-27</td>\n",
       "      <td>6540281.0</td>\n",
       "    </tr>\n",
       "    <tr>\n",
       "      <th>1588</th>\n",
       "      <td>A002</td>\n",
       "      <td>R051</td>\n",
       "      <td>02-06-00</td>\n",
       "      <td>59 ST</td>\n",
       "      <td>2020-02-14</td>\n",
       "      <td>922</td>\n",
       "      <td>2020-02-13</td>\n",
       "      <td>82665.0</td>\n",
       "    </tr>\n",
       "    <tr>\n",
       "      <th>2331</th>\n",
       "      <td>A006</td>\n",
       "      <td>R079</td>\n",
       "      <td>00-00-04</td>\n",
       "      <td>5 AV/59 ST</td>\n",
       "      <td>2022-01-29</td>\n",
       "      <td>146526</td>\n",
       "      <td>2020-03-27</td>\n",
       "      <td>7896368.0</td>\n",
       "    </tr>\n",
       "    <tr>\n",
       "      <th>2454</th>\n",
       "      <td>A006</td>\n",
       "      <td>R079</td>\n",
       "      <td>00-03-00</td>\n",
       "      <td>5 AV/59 ST</td>\n",
       "      <td>2020-03-11</td>\n",
       "      <td>76</td>\n",
       "      <td>2020-03-10</td>\n",
       "      <td>9437450.0</td>\n",
       "    </tr>\n",
       "    <tr>\n",
       "      <th>3591</th>\n",
       "      <td>A007</td>\n",
       "      <td>R079</td>\n",
       "      <td>01-06-03</td>\n",
       "      <td>5 AV/59 ST</td>\n",
       "      <td>2022-01-29</td>\n",
       "      <td>227228</td>\n",
       "      <td>2020-03-27</td>\n",
       "      <td>7831851.0</td>\n",
       "    </tr>\n",
       "  </tbody>\n",
       "</table>\n",
       "</div>"
      ],
      "text/plain": [
       "       C/A  UNIT       SCP     STATION       DATE  ENTRIES  PREV_DATE  \\\n",
       "651   A002  R051  02-03-02       59 ST 2022-01-29   136720 2020-03-27   \n",
       "1588  A002  R051  02-06-00       59 ST 2020-02-14      922 2020-02-13   \n",
       "2331  A006  R079  00-00-04  5 AV/59 ST 2022-01-29   146526 2020-03-27   \n",
       "2454  A006  R079  00-03-00  5 AV/59 ST 2020-03-11       76 2020-03-10   \n",
       "3591  A007  R079  01-06-03  5 AV/59 ST 2022-01-29   227228 2020-03-27   \n",
       "\n",
       "      PREV_ENTRIES  \n",
       "651      6540281.0  \n",
       "1588       82665.0  \n",
       "2331     7896368.0  \n",
       "2454     9437450.0  \n",
       "3591     7831851.0  "
      ]
     },
     "execution_count": 12,
     "metadata": {},
     "output_type": "execute_result"
    }
   ],
   "source": [
    "# Identifying counter is going backwards via entries that are less than previous entries\n",
    "turnstiles_daily[turnstiles_daily[\"ENTRIES\"] < turnstiles_daily[\"PREV_ENTRIES\"]].head()"
   ]
  },
  {
   "cell_type": "code",
   "execution_count": 13,
   "id": "54736370",
   "metadata": {},
   "outputs": [
    {
     "data": {
      "text/plain": [
       "C/A    UNIT  SCP       STATION        \n",
       "A002   R051  02-03-02  59 ST                1\n",
       "             02-06-00  59 ST                1\n",
       "A006   R079  00-00-04  5 AV/59 ST           1\n",
       "             00-03-00  5 AV/59 ST           1\n",
       "A007   R079  01-06-03  5 AV/59 ST           1\n",
       "                                         ... \n",
       "R729   R292  00-00-01  BAYCHESTER AV        1\n",
       "R730   R431  00-00-04  EASTCHSTER/DYRE    136\n",
       "S101   R070  00-00-03  ST. GEORGE           1\n",
       "             00-00-04  ST. GEORGE           1\n",
       "TRAM2  R469  00-05-01  RIT-ROOSEVELT        1\n",
       "Length: 990, dtype: int64"
      ]
     },
     "execution_count": 13,
     "metadata": {},
     "output_type": "execute_result"
    }
   ],
   "source": [
    "# Let's see how many stations have this problem? Individual turnstiles by station. \n",
    "# length is number of turnstiles that have problem because of how groupby is. \n",
    "# .size() means 48 rows in 57 strett that have this issue. \n",
    "\n",
    "\n",
    "(turnstiles_daily[turnstiles_daily[\"ENTRIES\"] < turnstiles_daily[\"PREV_ENTRIES\"]]\n",
    "    .groupby([\"C/A\", \"UNIT\", \"SCP\", \"STATION\"])\n",
    "    .size())"
   ]
  },
  {
   "cell_type": "code",
   "execution_count": 14,
   "id": "2e4e58c9",
   "metadata": {},
   "outputs": [],
   "source": [
    "# my questions/clarifications:\n",
    "# identify when there's a negative entry count <0\n",
    "# identify a max - how many people can go through turnstile in 4 hour window\n",
    "\n",
    "def get_daily_counts(row, max_counter):\n",
    "    counter = row[\"ENTRIES\"] - row[\"PREV_ENTRIES\"]\n",
    "    if counter < 0:\n",
    "        # Maybe counter is reversed?\n",
    "        # my note: do this if count is going backwards\n",
    "        # if counter is negative then make it a positive. The -counter makes it positive - yes, not intuitive. \n",
    "        # installed wrong - counters negative when should be positive.\n",
    "        # when reset occurs it gets reset to zero. Resets at large number. Makes next if statement work. \n",
    "        counter = -counter\n",
    "    if counter > max_counter:\n",
    "        # Maybe counter was reset to 0? \n",
    "        #print(row[\"ENTRIES\"], row[\"PREV_ENTRIES\"])\n",
    "        #for this row look at entries and prev entries and take lowest\n",
    "        counter = min(row[\"ENTRIES\"], row[\"PREV_ENTRIES\"])\n",
    "    if counter > max_counter:\n",
    "        # Check it again to make sure we're not still giving a counter that's too big\n",
    "        return 0\n",
    "    return counter\n",
    "\n",
    "# If counter is > 1Million, then the counter might have been reset.  \n",
    "# Just set it to zero as different counters have different cycle limits\n",
    "# It'd probably be a good idea to use a number even significantly smaller than 1 million as the limit!\n",
    "turnstiles_daily[\"DAILY_ENTRIES\"] = turnstiles_daily.apply(get_daily_counts, axis=1, max_counter=15000)"
   ]
  },
  {
   "cell_type": "code",
   "execution_count": 15,
   "id": "4d6ed961",
   "metadata": {},
   "outputs": [
    {
     "data": {
      "text/html": [
       "<div>\n",
       "<style scoped>\n",
       "    .dataframe tbody tr th:only-of-type {\n",
       "        vertical-align: middle;\n",
       "    }\n",
       "\n",
       "    .dataframe tbody tr th {\n",
       "        vertical-align: top;\n",
       "    }\n",
       "\n",
       "    .dataframe thead th {\n",
       "        text-align: right;\n",
       "    }\n",
       "</style>\n",
       "<table border=\"1\" class=\"dataframe\">\n",
       "  <thead>\n",
       "    <tr style=\"text-align: right;\">\n",
       "      <th></th>\n",
       "      <th>C/A</th>\n",
       "      <th>UNIT</th>\n",
       "      <th>SCP</th>\n",
       "      <th>STATION</th>\n",
       "      <th>DATE</th>\n",
       "      <th>ENTRIES</th>\n",
       "      <th>PREV_DATE</th>\n",
       "      <th>PREV_ENTRIES</th>\n",
       "      <th>DAILY_ENTRIES</th>\n",
       "    </tr>\n",
       "  </thead>\n",
       "  <tbody>\n",
       "    <tr>\n",
       "      <th>1</th>\n",
       "      <td>A002</td>\n",
       "      <td>R051</td>\n",
       "      <td>02-00-00</td>\n",
       "      <td>59 ST</td>\n",
       "      <td>2019-12-29</td>\n",
       "      <td>7325192</td>\n",
       "      <td>2019-12-28</td>\n",
       "      <td>7324295.0</td>\n",
       "      <td>897.0</td>\n",
       "    </tr>\n",
       "    <tr>\n",
       "      <th>2</th>\n",
       "      <td>A002</td>\n",
       "      <td>R051</td>\n",
       "      <td>02-00-00</td>\n",
       "      <td>59 ST</td>\n",
       "      <td>2019-12-30</td>\n",
       "      <td>7325799</td>\n",
       "      <td>2019-12-29</td>\n",
       "      <td>7325192.0</td>\n",
       "      <td>607.0</td>\n",
       "    </tr>\n",
       "    <tr>\n",
       "      <th>3</th>\n",
       "      <td>A002</td>\n",
       "      <td>R051</td>\n",
       "      <td>02-00-00</td>\n",
       "      <td>59 ST</td>\n",
       "      <td>2019-12-31</td>\n",
       "      <td>7326977</td>\n",
       "      <td>2019-12-30</td>\n",
       "      <td>7325799.0</td>\n",
       "      <td>1178.0</td>\n",
       "    </tr>\n",
       "    <tr>\n",
       "      <th>4</th>\n",
       "      <td>A002</td>\n",
       "      <td>R051</td>\n",
       "      <td>02-00-00</td>\n",
       "      <td>59 ST</td>\n",
       "      <td>2020-01-01</td>\n",
       "      <td>7328037</td>\n",
       "      <td>2019-12-31</td>\n",
       "      <td>7326977.0</td>\n",
       "      <td>1060.0</td>\n",
       "    </tr>\n",
       "    <tr>\n",
       "      <th>5</th>\n",
       "      <td>A002</td>\n",
       "      <td>R051</td>\n",
       "      <td>02-00-00</td>\n",
       "      <td>59 ST</td>\n",
       "      <td>2020-01-02</td>\n",
       "      <td>7328527</td>\n",
       "      <td>2020-01-01</td>\n",
       "      <td>7328037.0</td>\n",
       "      <td>490.0</td>\n",
       "    </tr>\n",
       "  </tbody>\n",
       "</table>\n",
       "</div>"
      ],
      "text/plain": [
       "    C/A  UNIT       SCP STATION       DATE  ENTRIES  PREV_DATE  PREV_ENTRIES  \\\n",
       "1  A002  R051  02-00-00   59 ST 2019-12-29  7325192 2019-12-28     7324295.0   \n",
       "2  A002  R051  02-00-00   59 ST 2019-12-30  7325799 2019-12-29     7325192.0   \n",
       "3  A002  R051  02-00-00   59 ST 2019-12-31  7326977 2019-12-30     7325799.0   \n",
       "4  A002  R051  02-00-00   59 ST 2020-01-01  7328037 2019-12-31     7326977.0   \n",
       "5  A002  R051  02-00-00   59 ST 2020-01-02  7328527 2020-01-01     7328037.0   \n",
       "\n",
       "   DAILY_ENTRIES  \n",
       "1          897.0  \n",
       "2          607.0  \n",
       "3         1178.0  \n",
       "4         1060.0  \n",
       "5          490.0  "
      ]
     },
     "execution_count": 15,
     "metadata": {},
     "output_type": "execute_result"
    }
   ],
   "source": [
    "# daily entries column added with code from above applied\n",
    "turnstiles_daily.head()"
   ]
  },
  {
   "cell_type": "markdown",
   "id": "dad37f5e",
   "metadata": {},
   "source": [
    "### Combine Turnstiles \n",
    "That fall within the same ControlArea/Unit/Station combo.\n",
    "There are some ControlArea/Unit/Station groups that have a single turnstile, but most have multiple turnstiles -- same value for the C/A, UNIT and STATION columns, different values for the SCP column.\n",
    "\n",
    "We want to combine the numbers together. For each ControlArea/UNIT/STATION combo, for each day, sum the counts from each turnstile belonging to that combo. (hint: pd.groupby)"
   ]
  },
  {
   "cell_type": "code",
   "execution_count": 16,
   "id": "783f8a2a",
   "metadata": {},
   "outputs": [
    {
     "data": {
      "text/html": [
       "<div>\n",
       "<style scoped>\n",
       "    .dataframe tbody tr th:only-of-type {\n",
       "        vertical-align: middle;\n",
       "    }\n",
       "\n",
       "    .dataframe tbody tr th {\n",
       "        vertical-align: top;\n",
       "    }\n",
       "\n",
       "    .dataframe thead th {\n",
       "        text-align: right;\n",
       "    }\n",
       "</style>\n",
       "<table border=\"1\" class=\"dataframe\">\n",
       "  <thead>\n",
       "    <tr style=\"text-align: right;\">\n",
       "      <th></th>\n",
       "      <th>C/A</th>\n",
       "      <th>UNIT</th>\n",
       "      <th>STATION</th>\n",
       "      <th>DATE</th>\n",
       "      <th>DAILY_ENTRIES</th>\n",
       "    </tr>\n",
       "  </thead>\n",
       "  <tbody>\n",
       "    <tr>\n",
       "      <th>0</th>\n",
       "      <td>A002</td>\n",
       "      <td>R051</td>\n",
       "      <td>59 ST</td>\n",
       "      <td>2019-12-29</td>\n",
       "      <td>8263.0</td>\n",
       "    </tr>\n",
       "    <tr>\n",
       "      <th>1</th>\n",
       "      <td>A002</td>\n",
       "      <td>R051</td>\n",
       "      <td>59 ST</td>\n",
       "      <td>2019-12-30</td>\n",
       "      <td>6666.0</td>\n",
       "    </tr>\n",
       "    <tr>\n",
       "      <th>2</th>\n",
       "      <td>A002</td>\n",
       "      <td>R051</td>\n",
       "      <td>59 ST</td>\n",
       "      <td>2019-12-31</td>\n",
       "      <td>10986.0</td>\n",
       "    </tr>\n",
       "    <tr>\n",
       "      <th>3</th>\n",
       "      <td>A002</td>\n",
       "      <td>R051</td>\n",
       "      <td>59 ST</td>\n",
       "      <td>2020-01-01</td>\n",
       "      <td>9700.0</td>\n",
       "    </tr>\n",
       "    <tr>\n",
       "      <th>4</th>\n",
       "      <td>A002</td>\n",
       "      <td>R051</td>\n",
       "      <td>59 ST</td>\n",
       "      <td>2020-01-02</td>\n",
       "      <td>4873.0</td>\n",
       "    </tr>\n",
       "  </tbody>\n",
       "</table>\n",
       "</div>"
      ],
      "text/plain": [
       "    C/A  UNIT STATION       DATE  DAILY_ENTRIES\n",
       "0  A002  R051   59 ST 2019-12-29         8263.0\n",
       "1  A002  R051   59 ST 2019-12-30         6666.0\n",
       "2  A002  R051   59 ST 2019-12-31        10986.0\n",
       "3  A002  R051   59 ST 2020-01-01         9700.0\n",
       "4  A002  R051   59 ST 2020-01-02         4873.0"
      ]
     },
     "execution_count": 16,
     "metadata": {},
     "output_type": "execute_result"
    }
   ],
   "source": [
    "ca_unit_station_daily = turnstiles_daily.groupby([\"C/A\", \"UNIT\", \"STATION\", \"DATE\"])[['DAILY_ENTRIES']].sum().reset_index()\n",
    "ca_unit_station_daily.head()"
   ]
  },
  {
   "cell_type": "markdown",
   "id": "9ff92103",
   "metadata": {},
   "source": [
    "### Create Daily Time Series for Each Station\n",
    "by adding up all the turnstiles in a station"
   ]
  },
  {
   "cell_type": "code",
   "execution_count": 17,
   "id": "e10a0109",
   "metadata": {},
   "outputs": [
    {
     "data": {
      "text/html": [
       "<div>\n",
       "<style scoped>\n",
       "    .dataframe tbody tr th:only-of-type {\n",
       "        vertical-align: middle;\n",
       "    }\n",
       "\n",
       "    .dataframe tbody tr th {\n",
       "        vertical-align: top;\n",
       "    }\n",
       "\n",
       "    .dataframe thead th {\n",
       "        text-align: right;\n",
       "    }\n",
       "</style>\n",
       "<table border=\"1\" class=\"dataframe\">\n",
       "  <thead>\n",
       "    <tr style=\"text-align: right;\">\n",
       "      <th></th>\n",
       "      <th>STATION</th>\n",
       "      <th>DATE</th>\n",
       "      <th>DAILY_ENTRIES</th>\n",
       "    </tr>\n",
       "  </thead>\n",
       "  <tbody>\n",
       "    <tr>\n",
       "      <th>0</th>\n",
       "      <td>1 AV</td>\n",
       "      <td>2019-12-29</td>\n",
       "      <td>6065.0</td>\n",
       "    </tr>\n",
       "    <tr>\n",
       "      <th>1</th>\n",
       "      <td>1 AV</td>\n",
       "      <td>2019-12-30</td>\n",
       "      <td>4763.0</td>\n",
       "    </tr>\n",
       "    <tr>\n",
       "      <th>2</th>\n",
       "      <td>1 AV</td>\n",
       "      <td>2019-12-31</td>\n",
       "      <td>12931.0</td>\n",
       "    </tr>\n",
       "    <tr>\n",
       "      <th>3</th>\n",
       "      <td>1 AV</td>\n",
       "      <td>2020-01-01</td>\n",
       "      <td>14286.0</td>\n",
       "    </tr>\n",
       "    <tr>\n",
       "      <th>4</th>\n",
       "      <td>1 AV</td>\n",
       "      <td>2020-01-02</td>\n",
       "      <td>6109.0</td>\n",
       "    </tr>\n",
       "  </tbody>\n",
       "</table>\n",
       "</div>"
      ],
      "text/plain": [
       "  STATION       DATE  DAILY_ENTRIES\n",
       "0    1 AV 2019-12-29         6065.0\n",
       "1    1 AV 2019-12-30         4763.0\n",
       "2    1 AV 2019-12-31        12931.0\n",
       "3    1 AV 2020-01-01        14286.0\n",
       "4    1 AV 2020-01-02         6109.0"
      ]
     },
     "execution_count": 17,
     "metadata": {},
     "output_type": "execute_result"
    }
   ],
   "source": [
    "station_daily = turnstiles_daily.groupby([\"STATION\", \"DATE\"])[['DAILY_ENTRIES']].sum().reset_index()\n",
    "station_daily.head()"
   ]
  },
  {
   "cell_type": "markdown",
   "id": "95b9eda0",
   "metadata": {},
   "source": [
    "### Create a chart with top ten stations for Feb 2020 "
   ]
  },
  {
   "cell_type": "code",
   "execution_count": 18,
   "id": "d4f8a1b4",
   "metadata": {},
   "outputs": [
    {
     "data": {
      "text/html": [
       "<div>\n",
       "<style scoped>\n",
       "    .dataframe tbody tr th:only-of-type {\n",
       "        vertical-align: middle;\n",
       "    }\n",
       "\n",
       "    .dataframe tbody tr th {\n",
       "        vertical-align: top;\n",
       "    }\n",
       "\n",
       "    .dataframe thead th {\n",
       "        text-align: right;\n",
       "    }\n",
       "</style>\n",
       "<table border=\"1\" class=\"dataframe\">\n",
       "  <thead>\n",
       "    <tr style=\"text-align: right;\">\n",
       "      <th></th>\n",
       "      <th>STATION</th>\n",
       "      <th>DATE</th>\n",
       "      <th>DAILY_ENTRIES</th>\n",
       "    </tr>\n",
       "  </thead>\n",
       "  <tbody>\n",
       "    <tr>\n",
       "      <th>34</th>\n",
       "      <td>1 AV</td>\n",
       "      <td>2020-02-01</td>\n",
       "      <td>18790.0</td>\n",
       "    </tr>\n",
       "    <tr>\n",
       "      <th>35</th>\n",
       "      <td>1 AV</td>\n",
       "      <td>2020-02-02</td>\n",
       "      <td>7341.0</td>\n",
       "    </tr>\n",
       "    <tr>\n",
       "      <th>36</th>\n",
       "      <td>1 AV</td>\n",
       "      <td>2020-02-03</td>\n",
       "      <td>5599.0</td>\n",
       "    </tr>\n",
       "    <tr>\n",
       "      <th>37</th>\n",
       "      <td>1 AV</td>\n",
       "      <td>2020-02-04</td>\n",
       "      <td>16988.0</td>\n",
       "    </tr>\n",
       "  </tbody>\n",
       "</table>\n",
       "</div>"
      ],
      "text/plain": [
       "   STATION       DATE  DAILY_ENTRIES\n",
       "34    1 AV 2020-02-01        18790.0\n",
       "35    1 AV 2020-02-02         7341.0\n",
       "36    1 AV 2020-02-03         5599.0\n",
       "37    1 AV 2020-02-04        16988.0"
      ]
     },
     "execution_count": 18,
     "metadata": {},
     "output_type": "execute_result"
    }
   ],
   "source": [
    "# select February 2020 rows\n",
    "start_date = '2020-02-01'\n",
    "end_date = '2020-02-29'\n",
    "# Select DataFrame rows between two dates\n",
    "mask = (station_daily['DATE'] >= start_date) & (station_daily['DATE'] <= end_date)\n",
    "feb2020 = station_daily.loc[mask]\n",
    "feb2020.head(4)"
   ]
  },
  {
   "cell_type": "code",
   "execution_count": 19,
   "id": "ac50ef04",
   "metadata": {},
   "outputs": [
    {
     "data": {
      "text/html": [
       "<div>\n",
       "<style scoped>\n",
       "    .dataframe tbody tr th:only-of-type {\n",
       "        vertical-align: middle;\n",
       "    }\n",
       "\n",
       "    .dataframe tbody tr th {\n",
       "        vertical-align: top;\n",
       "    }\n",
       "\n",
       "    .dataframe thead th {\n",
       "        text-align: right;\n",
       "    }\n",
       "</style>\n",
       "<table border=\"1\" class=\"dataframe\">\n",
       "  <thead>\n",
       "    <tr style=\"text-align: right;\">\n",
       "      <th></th>\n",
       "      <th>STATION</th>\n",
       "      <th>DAILY_ENTRIES</th>\n",
       "    </tr>\n",
       "  </thead>\n",
       "  <tbody>\n",
       "    <tr>\n",
       "      <th>0</th>\n",
       "      <td>34 ST-PENN STA</td>\n",
       "      <td>3784922.0</td>\n",
       "    </tr>\n",
       "    <tr>\n",
       "      <th>1</th>\n",
       "      <td>GRD CNTRL-42 ST</td>\n",
       "      <td>3290770.0</td>\n",
       "    </tr>\n",
       "    <tr>\n",
       "      <th>2</th>\n",
       "      <td>34 ST-HERALD SQ</td>\n",
       "      <td>2901856.0</td>\n",
       "    </tr>\n",
       "    <tr>\n",
       "      <th>3</th>\n",
       "      <td>23 ST</td>\n",
       "      <td>2874137.0</td>\n",
       "    </tr>\n",
       "    <tr>\n",
       "      <th>4</th>\n",
       "      <td>42 ST-PORT AUTH</td>\n",
       "      <td>2462518.0</td>\n",
       "    </tr>\n",
       "    <tr>\n",
       "      <th>5</th>\n",
       "      <td>14 ST-UNION SQ</td>\n",
       "      <td>2379675.0</td>\n",
       "    </tr>\n",
       "    <tr>\n",
       "      <th>6</th>\n",
       "      <td>TIMES SQ-42 ST</td>\n",
       "      <td>2248539.0</td>\n",
       "    </tr>\n",
       "    <tr>\n",
       "      <th>7</th>\n",
       "      <td>FULTON ST</td>\n",
       "      <td>2233398.0</td>\n",
       "    </tr>\n",
       "    <tr>\n",
       "      <th>8</th>\n",
       "      <td>86 ST</td>\n",
       "      <td>2064123.0</td>\n",
       "    </tr>\n",
       "    <tr>\n",
       "      <th>9</th>\n",
       "      <td>125 ST</td>\n",
       "      <td>1927761.0</td>\n",
       "    </tr>\n",
       "  </tbody>\n",
       "</table>\n",
       "</div>"
      ],
      "text/plain": [
       "           STATION  DAILY_ENTRIES\n",
       "0   34 ST-PENN STA      3784922.0\n",
       "1  GRD CNTRL-42 ST      3290770.0\n",
       "2  34 ST-HERALD SQ      2901856.0\n",
       "3            23 ST      2874137.0\n",
       "4  42 ST-PORT AUTH      2462518.0\n",
       "5   14 ST-UNION SQ      2379675.0\n",
       "6   TIMES SQ-42 ST      2248539.0\n",
       "7        FULTON ST      2233398.0\n",
       "8            86 ST      2064123.0\n",
       "9           125 ST      1927761.0"
      ]
     },
     "execution_count": 19,
     "metadata": {},
     "output_type": "execute_result"
    }
   ],
   "source": [
    "# Feb 2020 grouped by station, sum of Daily Entries \n",
    "feb2020_sums = feb2020.groupby('STATION').sum()\\\n",
    "    .sort_values('DAILY_ENTRIES', ascending=False)\\\n",
    "    .reset_index()\n",
    "\n",
    "feb2020_sums.head(10)"
   ]
  },
  {
   "cell_type": "markdown",
   "id": "bd15fa64",
   "metadata": {},
   "source": [
    "#### Feb 2020 Bottom TTL Line Top Ten Stations"
   ]
  },
  {
   "cell_type": "code",
   "execution_count": 20,
   "id": "6138df7f",
   "metadata": {},
   "outputs": [
    {
     "data": {
      "text/plain": [
       "DAILY_ENTRIES    26167699.0\n",
       "dtype: float64"
      ]
     },
     "execution_count": 20,
     "metadata": {},
     "output_type": "execute_result"
    }
   ],
   "source": [
    "feb2020total = feb2020_sums.loc[0 : 9,[\"DAILY_ENTRIES\"]].sum(axis = 0)\n",
    "feb2020total"
   ]
  },
  {
   "cell_type": "markdown",
   "id": "9ef1532f",
   "metadata": {},
   "source": [
    "### Feb 2020 Plot Top Ten Stations"
   ]
  },
  {
   "cell_type": "code",
   "execution_count": 21,
   "id": "77b5d40a",
   "metadata": {},
   "outputs": [
    {
     "name": "stderr",
     "output_type": "stream",
     "text": [
      "/var/folders/_0/21d2kw097h912yp8tr3nkrsm0000gn/T/ipykernel_90403/3485477614.py:6: UserWarning: FixedFormatter should only be used together with FixedLocator\n",
      "  plt.gca().set_yticklabels(['{:,.0f}'.format(x) for x in current_values])\n"
     ]
    },
    {
     "data": {
      "text/plain": [
       "Text(0, 0.5, 'Entries')"
      ]
     },
     "execution_count": 21,
     "metadata": {},
     "output_type": "execute_result"
    },
    {
     "data": {
      "image/png": "[encoded data removed]",
      "text/plain": [
       "<Figure size 432x288 with 1 Axes>"
      ]
     },
     "metadata": {
      "needs_background": "light"
     },
     "output_type": "display_data"
    }
   ],
   "source": [
    "plt.bar(x=feb2020_sums['STATION'][:10], height=feb2020_sums['DAILY_ENTRIES'][:10])\n",
    "# after plotting the data, format the labels\n",
    "current_values = plt.gca().get_yticks()\n",
    "# using format string '{:.0f}' here but you can choose others\n",
    "plt.title('February 2020: Top 10 Stations')\n",
    "plt.gca().set_yticklabels(['{:,.0f}'.format(x) for x in current_values])\n",
    "plt.xticks(rotation=90)\n",
    "plt.ylabel(\"Entries\")\n",
    "#plt.savefig('Feb2020Top10v3.png', dpi=300, bbox_inches=\"tight\", transparent = True)  "
   ]
  },
  {
   "cell_type": "markdown",
   "id": "67bc0252",
   "metadata": {},
   "source": [
    "### Feb 2022 Create a chart with top ten stations for"
   ]
  },
  {
   "cell_type": "code",
   "execution_count": 22,
   "id": "4f5ffd4d",
   "metadata": {},
   "outputs": [
    {
     "data": {
      "text/html": [
       "<div>\n",
       "<style scoped>\n",
       "    .dataframe tbody tr th:only-of-type {\n",
       "        vertical-align: middle;\n",
       "    }\n",
       "\n",
       "    .dataframe tbody tr th {\n",
       "        vertical-align: top;\n",
       "    }\n",
       "\n",
       "    .dataframe thead th {\n",
       "        text-align: right;\n",
       "    }\n",
       "</style>\n",
       "<table border=\"1\" class=\"dataframe\">\n",
       "  <thead>\n",
       "    <tr style=\"text-align: right;\">\n",
       "      <th></th>\n",
       "      <th>STATION</th>\n",
       "      <th>DATE</th>\n",
       "      <th>DAILY_ENTRIES</th>\n",
       "    </tr>\n",
       "  </thead>\n",
       "  <tbody>\n",
       "    <tr>\n",
       "      <th>93</th>\n",
       "      <td>1 AV</td>\n",
       "      <td>2022-02-01</td>\n",
       "      <td>7374.0</td>\n",
       "    </tr>\n",
       "    <tr>\n",
       "      <th>94</th>\n",
       "      <td>1 AV</td>\n",
       "      <td>2022-02-02</td>\n",
       "      <td>7397.0</td>\n",
       "    </tr>\n",
       "    <tr>\n",
       "      <th>95</th>\n",
       "      <td>1 AV</td>\n",
       "      <td>2022-02-03</td>\n",
       "      <td>9126.0</td>\n",
       "    </tr>\n",
       "    <tr>\n",
       "      <th>96</th>\n",
       "      <td>1 AV</td>\n",
       "      <td>2022-02-04</td>\n",
       "      <td>9237.0</td>\n",
       "    </tr>\n",
       "    <tr>\n",
       "      <th>97</th>\n",
       "      <td>1 AV</td>\n",
       "      <td>2022-02-05</td>\n",
       "      <td>9394.0</td>\n",
       "    </tr>\n",
       "    <tr>\n",
       "      <th>98</th>\n",
       "      <td>1 AV</td>\n",
       "      <td>2022-02-06</td>\n",
       "      <td>5674.0</td>\n",
       "    </tr>\n",
       "    <tr>\n",
       "      <th>99</th>\n",
       "      <td>1 AV</td>\n",
       "      <td>2022-02-07</td>\n",
       "      <td>4351.0</td>\n",
       "    </tr>\n",
       "    <tr>\n",
       "      <th>100</th>\n",
       "      <td>1 AV</td>\n",
       "      <td>2022-02-08</td>\n",
       "      <td>8521.0</td>\n",
       "    </tr>\n",
       "    <tr>\n",
       "      <th>101</th>\n",
       "      <td>1 AV</td>\n",
       "      <td>2022-02-09</td>\n",
       "      <td>9170.0</td>\n",
       "    </tr>\n",
       "    <tr>\n",
       "      <th>102</th>\n",
       "      <td>1 AV</td>\n",
       "      <td>2022-02-10</td>\n",
       "      <td>8945.0</td>\n",
       "    </tr>\n",
       "  </tbody>\n",
       "</table>\n",
       "</div>"
      ],
      "text/plain": [
       "    STATION       DATE  DAILY_ENTRIES\n",
       "93     1 AV 2022-02-01         7374.0\n",
       "94     1 AV 2022-02-02         7397.0\n",
       "95     1 AV 2022-02-03         9126.0\n",
       "96     1 AV 2022-02-04         9237.0\n",
       "97     1 AV 2022-02-05         9394.0\n",
       "98     1 AV 2022-02-06         5674.0\n",
       "99     1 AV 2022-02-07         4351.0\n",
       "100    1 AV 2022-02-08         8521.0\n",
       "101    1 AV 2022-02-09         9170.0\n",
       "102    1 AV 2022-02-10         8945.0"
      ]
     },
     "execution_count": 22,
     "metadata": {},
     "output_type": "execute_result"
    }
   ],
   "source": [
    "# select February 2022 rows\n",
    "start_date = '2022-02-01'\n",
    "end_date = '2022-02-28'\n",
    "# Select DataFrame rows between two dates\n",
    "mask = (station_daily['DATE'] >= start_date) & (station_daily['DATE'] <= end_date)\n",
    "feb2022 = station_daily.loc[mask]\n",
    "feb2022.head(10)"
   ]
  },
  {
   "cell_type": "code",
   "execution_count": 23,
   "id": "08d7355d",
   "metadata": {},
   "outputs": [
    {
     "data": {
      "text/html": [
       "<div>\n",
       "<style scoped>\n",
       "    .dataframe tbody tr th:only-of-type {\n",
       "        vertical-align: middle;\n",
       "    }\n",
       "\n",
       "    .dataframe tbody tr th {\n",
       "        vertical-align: top;\n",
       "    }\n",
       "\n",
       "    .dataframe thead th {\n",
       "        text-align: right;\n",
       "    }\n",
       "</style>\n",
       "<table border=\"1\" class=\"dataframe\">\n",
       "  <thead>\n",
       "    <tr style=\"text-align: right;\">\n",
       "      <th></th>\n",
       "      <th>STATION</th>\n",
       "      <th>DAILY_ENTRIES</th>\n",
       "    </tr>\n",
       "  </thead>\n",
       "  <tbody>\n",
       "    <tr>\n",
       "      <th>0</th>\n",
       "      <td>34 ST-PENN STA</td>\n",
       "      <td>1184088.0</td>\n",
       "    </tr>\n",
       "    <tr>\n",
       "      <th>1</th>\n",
       "      <td>34 ST-HERALD SQ</td>\n",
       "      <td>966343.0</td>\n",
       "    </tr>\n",
       "    <tr>\n",
       "      <th>2</th>\n",
       "      <td>GRD CNTRL-42 ST</td>\n",
       "      <td>942783.0</td>\n",
       "    </tr>\n",
       "    <tr>\n",
       "      <th>3</th>\n",
       "      <td>23 ST</td>\n",
       "      <td>911101.0</td>\n",
       "    </tr>\n",
       "    <tr>\n",
       "      <th>4</th>\n",
       "      <td>86 ST</td>\n",
       "      <td>887946.0</td>\n",
       "    </tr>\n",
       "    <tr>\n",
       "      <th>5</th>\n",
       "      <td>42 ST-PORT AUTH</td>\n",
       "      <td>833813.0</td>\n",
       "    </tr>\n",
       "    <tr>\n",
       "      <th>6</th>\n",
       "      <td>14 ST-UNION SQ</td>\n",
       "      <td>793204.0</td>\n",
       "    </tr>\n",
       "    <tr>\n",
       "      <th>7</th>\n",
       "      <td>125 ST</td>\n",
       "      <td>776425.0</td>\n",
       "    </tr>\n",
       "    <tr>\n",
       "      <th>8</th>\n",
       "      <td>TIMES SQ-42 ST</td>\n",
       "      <td>742206.0</td>\n",
       "    </tr>\n",
       "    <tr>\n",
       "      <th>9</th>\n",
       "      <td>FULTON ST</td>\n",
       "      <td>721972.0</td>\n",
       "    </tr>\n",
       "  </tbody>\n",
       "</table>\n",
       "</div>"
      ],
      "text/plain": [
       "           STATION  DAILY_ENTRIES\n",
       "0   34 ST-PENN STA      1184088.0\n",
       "1  34 ST-HERALD SQ       966343.0\n",
       "2  GRD CNTRL-42 ST       942783.0\n",
       "3            23 ST       911101.0\n",
       "4            86 ST       887946.0\n",
       "5  42 ST-PORT AUTH       833813.0\n",
       "6   14 ST-UNION SQ       793204.0\n",
       "7           125 ST       776425.0\n",
       "8   TIMES SQ-42 ST       742206.0\n",
       "9        FULTON ST       721972.0"
      ]
     },
     "execution_count": 23,
     "metadata": {},
     "output_type": "execute_result"
    }
   ],
   "source": [
    "# Feb 2022 grouped by station, sum of Daily Entries \n",
    "feb2022_sums = feb2022.groupby('STATION').sum()\\\n",
    "    .sort_values('DAILY_ENTRIES', ascending=False)\\\n",
    "    .reset_index()\n",
    "\n",
    "feb2022_sums.head(10)"
   ]
  },
  {
   "cell_type": "markdown",
   "id": "f92934ef",
   "metadata": {},
   "source": [
    "#### Feb 2022 Bottom TTL Line Top Ten Stations"
   ]
  },
  {
   "cell_type": "code",
   "execution_count": 24,
   "id": "cccd6f0a",
   "metadata": {},
   "outputs": [
    {
     "data": {
      "text/plain": [
       "DAILY_ENTRIES    8759881.0\n",
       "dtype: float64"
      ]
     },
     "execution_count": 24,
     "metadata": {},
     "output_type": "execute_result"
    }
   ],
   "source": [
    "feb2022total = feb2022_sums.loc[0 : 9,[\"DAILY_ENTRIES\"]].sum(axis = 0)\n",
    "feb2022total"
   ]
  },
  {
   "cell_type": "code",
   "execution_count": 25,
   "id": "b643d6ee",
   "metadata": {},
   "outputs": [
    {
     "name": "stderr",
     "output_type": "stream",
     "text": [
      "/var/folders/_0/21d2kw097h912yp8tr3nkrsm0000gn/T/ipykernel_90403/1319192099.py:6: UserWarning: FixedFormatter should only be used together with FixedLocator\n",
      "  plt.gca().set_yticklabels(['{:,.0f}'.format(x) for x in current_values])\n"
     ]
    },
    {
     "data": {
      "text/plain": [
       "Text(0, 0.5, 'Entries')"
      ]
     },
     "execution_count": 25,
     "metadata": {},
     "output_type": "execute_result"
    },
    {
     "data": {
      "image/png": "[encoded data removed]",
      "text/plain": [
       "<Figure size 432x288 with 1 Axes>"
      ]
     },
     "metadata": {
      "needs_background": "light"
     },
     "output_type": "display_data"
    }
   ],
   "source": [
    "plt.bar(x=feb2022_sums['STATION'][:10], height=feb2022_sums['DAILY_ENTRIES'][:10])\n",
    "# after plotting the data, format the labels\n",
    "current_values = plt.gca().get_yticks()\n",
    "# using format string '{:.0f}' here but you can choose others\n",
    "plt.title('February 2022: Top 10 Stations')\n",
    "plt.gca().set_yticklabels(['{:,.0f}'.format(x) for x in current_values])\n",
    "plt.xticks(rotation=90)\n",
    "plt.ylabel(\"Entries\")\n",
    "#plt.savefig('Feb2022Top10v3.png', dpi=300, bbox_inches=\"tight\", transparent = True)  "
   ]
  },
  {
   "cell_type": "markdown",
   "id": "1a9230d7",
   "metadata": {},
   "source": [
    "### Determine Stations With the Highest Traffic During Reporting Period"
   ]
  },
  {
   "cell_type": "code",
   "execution_count": 26,
   "id": "7f28331c",
   "metadata": {},
   "outputs": [
    {
     "data": {
      "text/html": [
       "<div>\n",
       "<style scoped>\n",
       "    .dataframe tbody tr th:only-of-type {\n",
       "        vertical-align: middle;\n",
       "    }\n",
       "\n",
       "    .dataframe tbody tr th {\n",
       "        vertical-align: top;\n",
       "    }\n",
       "\n",
       "    .dataframe thead th {\n",
       "        text-align: right;\n",
       "    }\n",
       "</style>\n",
       "<table border=\"1\" class=\"dataframe\">\n",
       "  <thead>\n",
       "    <tr style=\"text-align: right;\">\n",
       "      <th></th>\n",
       "      <th>STATION</th>\n",
       "      <th>DAILY_ENTRIES</th>\n",
       "    </tr>\n",
       "  </thead>\n",
       "  <tbody>\n",
       "    <tr>\n",
       "      <th>0</th>\n",
       "      <td>34 ST-PENN STA</td>\n",
       "      <td>12196343.0</td>\n",
       "    </tr>\n",
       "    <tr>\n",
       "      <th>1</th>\n",
       "      <td>GRD CNTRL-42 ST</td>\n",
       "      <td>10294483.0</td>\n",
       "    </tr>\n",
       "    <tr>\n",
       "      <th>2</th>\n",
       "      <td>34 ST-HERALD SQ</td>\n",
       "      <td>9422982.0</td>\n",
       "    </tr>\n",
       "    <tr>\n",
       "      <th>3</th>\n",
       "      <td>23 ST</td>\n",
       "      <td>8946241.0</td>\n",
       "    </tr>\n",
       "    <tr>\n",
       "      <th>4</th>\n",
       "      <td>42 ST-PORT AUTH</td>\n",
       "      <td>8091023.0</td>\n",
       "    </tr>\n",
       "    <tr>\n",
       "      <th>5</th>\n",
       "      <td>14 ST-UNION SQ</td>\n",
       "      <td>7628829.0</td>\n",
       "    </tr>\n",
       "    <tr>\n",
       "      <th>6</th>\n",
       "      <td>TIMES SQ-42 ST</td>\n",
       "      <td>7242625.0</td>\n",
       "    </tr>\n",
       "    <tr>\n",
       "      <th>7</th>\n",
       "      <td>FULTON ST</td>\n",
       "      <td>7162722.0</td>\n",
       "    </tr>\n",
       "    <tr>\n",
       "      <th>8</th>\n",
       "      <td>86 ST</td>\n",
       "      <td>7107503.0</td>\n",
       "    </tr>\n",
       "    <tr>\n",
       "      <th>9</th>\n",
       "      <td>125 ST</td>\n",
       "      <td>6625976.0</td>\n",
       "    </tr>\n",
       "  </tbody>\n",
       "</table>\n",
       "</div>"
      ],
      "text/plain": [
       "           STATION  DAILY_ENTRIES\n",
       "0   34 ST-PENN STA     12196343.0\n",
       "1  GRD CNTRL-42 ST     10294483.0\n",
       "2  34 ST-HERALD SQ      9422982.0\n",
       "3            23 ST      8946241.0\n",
       "4  42 ST-PORT AUTH      8091023.0\n",
       "5   14 ST-UNION SQ      7628829.0\n",
       "6   TIMES SQ-42 ST      7242625.0\n",
       "7        FULTON ST      7162722.0\n",
       "8            86 ST      7107503.0\n",
       "9           125 ST      6625976.0"
      ]
     },
     "execution_count": 26,
     "metadata": {},
     "output_type": "execute_result"
    }
   ],
   "source": [
    "station_totals = station_daily.groupby('STATION').sum()\\\n",
    "    .sort_values('DAILY_ENTRIES', ascending=False)\\\n",
    "    .reset_index()\n",
    "\n",
    "station_totals.head(10)"
   ]
  },
  {
   "cell_type": "markdown",
   "id": "842cc27b",
   "metadata": {},
   "source": [
    "### Percent of Daily Entries by Station"
   ]
  },
  {
   "cell_type": "code",
   "execution_count": 27,
   "id": "0af7d9ff",
   "metadata": {},
   "outputs": [
    {
     "data": {
      "text/html": [
       "<div>\n",
       "<style scoped>\n",
       "    .dataframe tbody tr th:only-of-type {\n",
       "        vertical-align: middle;\n",
       "    }\n",
       "\n",
       "    .dataframe tbody tr th {\n",
       "        vertical-align: top;\n",
       "    }\n",
       "\n",
       "    .dataframe thead th {\n",
       "        text-align: right;\n",
       "    }\n",
       "</style>\n",
       "<table border=\"1\" class=\"dataframe\">\n",
       "  <thead>\n",
       "    <tr style=\"text-align: right;\">\n",
       "      <th></th>\n",
       "      <th>STATION</th>\n",
       "      <th>DAILY_ENTRIES</th>\n",
       "      <th>Percent</th>\n",
       "    </tr>\n",
       "  </thead>\n",
       "  <tbody>\n",
       "    <tr>\n",
       "      <th>0</th>\n",
       "      <td>34 ST-PENN STA</td>\n",
       "      <td>12196343.0</td>\n",
       "      <td>2.599724</td>\n",
       "    </tr>\n",
       "    <tr>\n",
       "      <th>1</th>\n",
       "      <td>GRD CNTRL-42 ST</td>\n",
       "      <td>10294483.0</td>\n",
       "      <td>2.194331</td>\n",
       "    </tr>\n",
       "    <tr>\n",
       "      <th>2</th>\n",
       "      <td>34 ST-HERALD SQ</td>\n",
       "      <td>9422982.0</td>\n",
       "      <td>2.008566</td>\n",
       "    </tr>\n",
       "    <tr>\n",
       "      <th>3</th>\n",
       "      <td>23 ST</td>\n",
       "      <td>8946241.0</td>\n",
       "      <td>1.906945</td>\n",
       "    </tr>\n",
       "    <tr>\n",
       "      <th>4</th>\n",
       "      <td>42 ST-PORT AUTH</td>\n",
       "      <td>8091023.0</td>\n",
       "      <td>1.724651</td>\n",
       "    </tr>\n",
       "    <tr>\n",
       "      <th>...</th>\n",
       "      <td>...</td>\n",
       "      <td>...</td>\n",
       "      <td>...</td>\n",
       "    </tr>\n",
       "    <tr>\n",
       "      <th>373</th>\n",
       "      <td>ROCKAWAY PARK B</td>\n",
       "      <td>59497.0</td>\n",
       "      <td>0.012682</td>\n",
       "    </tr>\n",
       "    <tr>\n",
       "      <th>374</th>\n",
       "      <td>TOMPKINSVILLE</td>\n",
       "      <td>55793.0</td>\n",
       "      <td>0.011893</td>\n",
       "    </tr>\n",
       "    <tr>\n",
       "      <th>375</th>\n",
       "      <td>BEACH 98 ST</td>\n",
       "      <td>37977.0</td>\n",
       "      <td>0.008095</td>\n",
       "    </tr>\n",
       "    <tr>\n",
       "      <th>376</th>\n",
       "      <td>BROAD CHANNEL</td>\n",
       "      <td>35077.0</td>\n",
       "      <td>0.007477</td>\n",
       "    </tr>\n",
       "    <tr>\n",
       "      <th>377</th>\n",
       "      <td>BEACH 105 ST</td>\n",
       "      <td>32176.0</td>\n",
       "      <td>0.006859</td>\n",
       "    </tr>\n",
       "  </tbody>\n",
       "</table>\n",
       "<p>378 rows × 3 columns</p>\n",
       "</div>"
      ],
      "text/plain": [
       "             STATION  DAILY_ENTRIES   Percent\n",
       "0     34 ST-PENN STA     12196343.0  2.599724\n",
       "1    GRD CNTRL-42 ST     10294483.0  2.194331\n",
       "2    34 ST-HERALD SQ      9422982.0  2.008566\n",
       "3              23 ST      8946241.0  1.906945\n",
       "4    42 ST-PORT AUTH      8091023.0  1.724651\n",
       "..               ...            ...       ...\n",
       "373  ROCKAWAY PARK B        59497.0  0.012682\n",
       "374    TOMPKINSVILLE        55793.0  0.011893\n",
       "375      BEACH 98 ST        37977.0  0.008095\n",
       "376    BROAD CHANNEL        35077.0  0.007477\n",
       "377     BEACH 105 ST        32176.0  0.006859\n",
       "\n",
       "[378 rows x 3 columns]"
      ]
     },
     "execution_count": 27,
     "metadata": {},
     "output_type": "execute_result"
    }
   ],
   "source": [
    "station_totals['Percent'] = (station_totals['DAILY_ENTRIES'] / station_totals['DAILY_ENTRIES'].sum()) * 100\n",
    "station_totals"
   ]
  },
  {
   "cell_type": "code",
   "execution_count": 28,
   "id": "a6bf17c5",
   "metadata": {},
   "outputs": [
    {
     "data": {
      "text/plain": [
       "dtype('float64')"
      ]
     },
     "execution_count": 28,
     "metadata": {},
     "output_type": "execute_result"
    }
   ],
   "source": [
    "# check the type that is in station_totals['Percent']\n",
    "station_totals['Percent'].dtypes"
   ]
  },
  {
   "cell_type": "code",
   "execution_count": 29,
   "id": "43ce09d8",
   "metadata": {},
   "outputs": [],
   "source": [
    "# # This code because percent column was giving scientific notation. \n",
    "# station_totals['Percent'] = station_totals['Percent'].astype('float')\n",
    "# station_totals['Percent'] = station_totals['Percent'].apply('{0:.2f}'.format)\n",
    "# station_totals.head(10)"
   ]
  },
  {
   "cell_type": "markdown",
   "id": "c86de3b7",
   "metadata": {},
   "source": [
    "### Cumulative Sum of Percent  "
   ]
  },
  {
   "cell_type": "code",
   "execution_count": 30,
   "id": "2cc36617",
   "metadata": {},
   "outputs": [
    {
     "data": {
      "text/plain": [
       "0     2.599724\n",
       "1     4.794056\n",
       "2     6.802621\n",
       "3     8.709567\n",
       "4    10.434217\n",
       "Name: Percent, dtype: float64"
      ]
     },
     "execution_count": 30,
     "metadata": {},
     "output_type": "execute_result"
    }
   ],
   "source": [
    "percent_cumu = station_totals['Percent'].cumsum()\n",
    "percent_cumu.head()"
   ]
  },
  {
   "cell_type": "code",
   "execution_count": 31,
   "id": "98125b00",
   "metadata": {},
   "outputs": [
    {
     "data": {
      "text/html": [
       "<div>\n",
       "<style scoped>\n",
       "    .dataframe tbody tr th:only-of-type {\n",
       "        vertical-align: middle;\n",
       "    }\n",
       "\n",
       "    .dataframe tbody tr th {\n",
       "        vertical-align: top;\n",
       "    }\n",
       "\n",
       "    .dataframe thead th {\n",
       "        text-align: right;\n",
       "    }\n",
       "</style>\n",
       "<table border=\"1\" class=\"dataframe\">\n",
       "  <thead>\n",
       "    <tr style=\"text-align: right;\">\n",
       "      <th></th>\n",
       "      <th>STATION</th>\n",
       "      <th>DAILY_ENTRIES</th>\n",
       "      <th>Percent</th>\n",
       "      <th>Percent_Cume</th>\n",
       "    </tr>\n",
       "  </thead>\n",
       "  <tbody>\n",
       "    <tr>\n",
       "      <th>0</th>\n",
       "      <td>34 ST-PENN STA</td>\n",
       "      <td>12196343.0</td>\n",
       "      <td>2.599724</td>\n",
       "      <td>2.599724</td>\n",
       "    </tr>\n",
       "    <tr>\n",
       "      <th>1</th>\n",
       "      <td>GRD CNTRL-42 ST</td>\n",
       "      <td>10294483.0</td>\n",
       "      <td>2.194331</td>\n",
       "      <td>4.794056</td>\n",
       "    </tr>\n",
       "    <tr>\n",
       "      <th>2</th>\n",
       "      <td>34 ST-HERALD SQ</td>\n",
       "      <td>9422982.0</td>\n",
       "      <td>2.008566</td>\n",
       "      <td>6.802621</td>\n",
       "    </tr>\n",
       "    <tr>\n",
       "      <th>3</th>\n",
       "      <td>23 ST</td>\n",
       "      <td>8946241.0</td>\n",
       "      <td>1.906945</td>\n",
       "      <td>8.709567</td>\n",
       "    </tr>\n",
       "    <tr>\n",
       "      <th>4</th>\n",
       "      <td>42 ST-PORT AUTH</td>\n",
       "      <td>8091023.0</td>\n",
       "      <td>1.724651</td>\n",
       "      <td>10.434217</td>\n",
       "    </tr>\n",
       "    <tr>\n",
       "      <th>5</th>\n",
       "      <td>14 ST-UNION SQ</td>\n",
       "      <td>7628829.0</td>\n",
       "      <td>1.626131</td>\n",
       "      <td>12.060348</td>\n",
       "    </tr>\n",
       "    <tr>\n",
       "      <th>6</th>\n",
       "      <td>TIMES SQ-42 ST</td>\n",
       "      <td>7242625.0</td>\n",
       "      <td>1.543809</td>\n",
       "      <td>13.604158</td>\n",
       "    </tr>\n",
       "    <tr>\n",
       "      <th>7</th>\n",
       "      <td>FULTON ST</td>\n",
       "      <td>7162722.0</td>\n",
       "      <td>1.526778</td>\n",
       "      <td>15.130935</td>\n",
       "    </tr>\n",
       "    <tr>\n",
       "      <th>8</th>\n",
       "      <td>86 ST</td>\n",
       "      <td>7107503.0</td>\n",
       "      <td>1.515007</td>\n",
       "      <td>16.645943</td>\n",
       "    </tr>\n",
       "    <tr>\n",
       "      <th>9</th>\n",
       "      <td>125 ST</td>\n",
       "      <td>6625976.0</td>\n",
       "      <td>1.412367</td>\n",
       "      <td>18.058310</td>\n",
       "    </tr>\n",
       "    <tr>\n",
       "      <th>10</th>\n",
       "      <td>59 ST COLUMBUS</td>\n",
       "      <td>5631354.0</td>\n",
       "      <td>1.200357</td>\n",
       "      <td>19.258667</td>\n",
       "    </tr>\n",
       "    <tr>\n",
       "      <th>11</th>\n",
       "      <td>CANAL ST</td>\n",
       "      <td>5607789.0</td>\n",
       "      <td>1.195334</td>\n",
       "      <td>20.454001</td>\n",
       "    </tr>\n",
       "  </tbody>\n",
       "</table>\n",
       "</div>"
      ],
      "text/plain": [
       "            STATION  DAILY_ENTRIES   Percent  Percent_Cume\n",
       "0    34 ST-PENN STA     12196343.0  2.599724      2.599724\n",
       "1   GRD CNTRL-42 ST     10294483.0  2.194331      4.794056\n",
       "2   34 ST-HERALD SQ      9422982.0  2.008566      6.802621\n",
       "3             23 ST      8946241.0  1.906945      8.709567\n",
       "4   42 ST-PORT AUTH      8091023.0  1.724651     10.434217\n",
       "5    14 ST-UNION SQ      7628829.0  1.626131     12.060348\n",
       "6    TIMES SQ-42 ST      7242625.0  1.543809     13.604158\n",
       "7         FULTON ST      7162722.0  1.526778     15.130935\n",
       "8             86 ST      7107503.0  1.515007     16.645943\n",
       "9            125 ST      6625976.0  1.412367     18.058310\n",
       "10   59 ST COLUMBUS      5631354.0  1.200357     19.258667\n",
       "11         CANAL ST      5607789.0  1.195334     20.454001"
      ]
     },
     "execution_count": 31,
     "metadata": {},
     "output_type": "execute_result"
    }
   ],
   "source": [
    "station_totals['Percent_Cume'] = percent_cumu\n",
    "station_totals.head(12)"
   ]
  },
  {
   "cell_type": "code",
   "execution_count": 32,
   "id": "f230a148",
   "metadata": {},
   "outputs": [],
   "source": [
    "%matplotlib inline"
   ]
  },
  {
   "cell_type": "code",
   "execution_count": 33,
   "id": "849638e2",
   "metadata": {},
   "outputs": [
    {
     "name": "stderr",
     "output_type": "stream",
     "text": [
      "/var/folders/_0/21d2kw097h912yp8tr3nkrsm0000gn/T/ipykernel_90403/1766598180.py:7: UserWarning: FixedFormatter should only be used together with FixedLocator\n",
      "  plt.gca().set_yticklabels(['{:,.0f}'.format(x) for x in current_values])\n"
     ]
    },
    {
     "data": {
      "text/plain": [
       "([0, 1, 2, 3, 4, 5, 6, 7, 8],\n",
       " [Text(0, 0, ''),\n",
       "  Text(0, 0, ''),\n",
       "  Text(0, 0, ''),\n",
       "  Text(0, 0, ''),\n",
       "  Text(0, 0, ''),\n",
       "  Text(0, 0, ''),\n",
       "  Text(0, 0, ''),\n",
       "  Text(0, 0, ''),\n",
       "  Text(0, 0, '')])"
      ]
     },
     "execution_count": 33,
     "metadata": {},
     "output_type": "execute_result"
    },
    {
     "data": {
      "image/png": "[encoded data removed]",
      "text/plain": [
       "<Figure size 432x288 with 1 Axes>"
      ]
     },
     "metadata": {
      "needs_background": "light"
     },
     "output_type": "display_data"
    }
   ],
   "source": [
    "# Stations that represent 15% of total entry volume\n",
    "plt.bar(x=station_totals['STATION'][:9], height=station_totals['DAILY_ENTRIES'][:9])\n",
    "# after plotting the data, format the labels\n",
    "current_values = plt.gca().get_yticks()\n",
    "# using format string '{:.0f}' here but you can choose others\n",
    "plt.title('Top 15% of Total MTA Entry Volume')\n",
    "plt.gca().set_yticklabels(['{:,.0f}'.format(x) for x in current_values])\n",
    "plt.xticks(rotation=90)"
   ]
  },
  {
   "cell_type": "markdown",
   "id": "5eb4bbd8",
   "metadata": {},
   "source": [
    "### Plot Daily Time Series For Single Turnstile\n",
    "Select one turnstile (combination of [C/A, UNIT, SCP, STATION])\n",
    "Filter your pandas DataFrame so it only represents a single turnstile (make sure that turnstile has entries for multiple days).\n",
    "Using matplotlib, create a plot with the days on the X axis and the daily entries for that turnstile on the Y axis\n",
    "You can use the following as a starting point:\n",
    "\n",
    "    plt.figure(figsize=(10,3))\n",
    "    plt.plot(<days>,<entries>)"
   ]
  },
  {
   "cell_type": "code",
   "execution_count": 34,
   "id": "dfa2c75c",
   "metadata": {},
   "outputs": [],
   "source": [
    "%matplotlib inline"
   ]
  },
  {
   "cell_type": "code",
   "execution_count": 35,
   "id": "6a08489c",
   "metadata": {},
   "outputs": [],
   "source": [
    "# single_turnstile = turnstiles_daily[(turnstiles_daily[\"C/A\"] == \"A011\") & \n",
    "# (turnstiles_daily[\"UNIT\"] == \"R080\") & \n",
    "# (turnstiles_daily[\"SCP\"] == \"01-00-00\") & \n",
    "# (turnstiles_daily[\"STATION\"] == \"57 ST-7 AV\")]\n",
    "\n",
    "# single_turnstile.head()"
   ]
  },
  {
   "cell_type": "code",
   "execution_count": 36,
   "id": "6dae1235",
   "metadata": {},
   "outputs": [],
   "source": [
    "# plt.figure(figsize=(15,5))\n",
    "# plt.plot(single_turnstile['DATE'], single_turnstile['DAILY_ENTRIES'])\n",
    "# plt.ylabel('# of Entries')\n",
    "# plt.xlabel('Date')\n",
    "# plt.xticks(rotation=45)\n",
    "# plt.title('Daily Entries for Turnstile A011/R080/01-00-00 at 57 ST-7 AV Station')\n"
   ]
  },
  {
   "cell_type": "markdown",
   "id": "81d4dd3f",
   "metadata": {},
   "source": [
    "### Daily Time Series For a Station  "
   ]
  },
  {
   "cell_type": "markdown",
   "id": "af08eb74",
   "metadata": {},
   "source": [
    "#### 57 Ave Station"
   ]
  },
  {
   "cell_type": "code",
   "execution_count": 37,
   "id": "84f9b000",
   "metadata": {},
   "outputs": [
    {
     "data": {
      "text/html": [
       "<div>\n",
       "<style scoped>\n",
       "    .dataframe tbody tr th:only-of-type {\n",
       "        vertical-align: middle;\n",
       "    }\n",
       "\n",
       "    .dataframe tbody tr th {\n",
       "        vertical-align: top;\n",
       "    }\n",
       "\n",
       "    .dataframe thead th {\n",
       "        text-align: right;\n",
       "    }\n",
       "</style>\n",
       "<table border=\"1\" class=\"dataframe\">\n",
       "  <thead>\n",
       "    <tr style=\"text-align: right;\">\n",
       "      <th></th>\n",
       "      <th>STATION</th>\n",
       "      <th>DATE</th>\n",
       "      <th>DAILY_ENTRIES</th>\n",
       "    </tr>\n",
       "  </thead>\n",
       "  <tbody>\n",
       "    <tr>\n",
       "      <th>11676</th>\n",
       "      <td>57 ST-7 AV</td>\n",
       "      <td>2019-12-29</td>\n",
       "      <td>21314.0</td>\n",
       "    </tr>\n",
       "    <tr>\n",
       "      <th>11677</th>\n",
       "      <td>57 ST-7 AV</td>\n",
       "      <td>2019-12-30</td>\n",
       "      <td>16338.0</td>\n",
       "    </tr>\n",
       "    <tr>\n",
       "      <th>11678</th>\n",
       "      <td>57 ST-7 AV</td>\n",
       "      <td>2019-12-31</td>\n",
       "      <td>27550.0</td>\n",
       "    </tr>\n",
       "    <tr>\n",
       "      <th>11679</th>\n",
       "      <td>57 ST-7 AV</td>\n",
       "      <td>2020-01-01</td>\n",
       "      <td>22820.0</td>\n",
       "    </tr>\n",
       "    <tr>\n",
       "      <th>11680</th>\n",
       "      <td>57 ST-7 AV</td>\n",
       "      <td>2020-01-02</td>\n",
       "      <td>14557.0</td>\n",
       "    </tr>\n",
       "  </tbody>\n",
       "</table>\n",
       "</div>"
      ],
      "text/plain": [
       "          STATION       DATE  DAILY_ENTRIES\n",
       "11676  57 ST-7 AV 2019-12-29        21314.0\n",
       "11677  57 ST-7 AV 2019-12-30        16338.0\n",
       "11678  57 ST-7 AV 2019-12-31        27550.0\n",
       "11679  57 ST-7 AV 2020-01-01        22820.0\n",
       "11680  57 ST-7 AV 2020-01-02        14557.0"
      ]
     },
     "execution_count": 37,
     "metadata": {},
     "output_type": "execute_result"
    }
   ],
   "source": [
    "station_daily_57_av = station_daily[station_daily['STATION'] == '57 ST-7 AV']\n",
    "station_daily_57_av.head()"
   ]
  },
  {
   "cell_type": "code",
   "execution_count": 38,
   "id": "72f32f27",
   "metadata": {},
   "outputs": [
    {
     "data": {
      "text/plain": [
       "Text(0.5, 1.0, 'Daily Entries for 57 ST-7 AV Station')"
      ]
     },
     "execution_count": 38,
     "metadata": {},
     "output_type": "execute_result"
    },
    {
     "data": {
      "image/png": "[encoded data removed]",
      "text/plain": [
       "<Figure size 1080x360 with 1 Axes>"
      ]
     },
     "metadata": {
      "needs_background": "light"
     },
     "output_type": "display_data"
    }
   ],
   "source": [
    "plt.figure(figsize=(15,5))\n",
    "plt.plot(station_daily_57_av['DATE'], station_daily_57_av['DAILY_ENTRIES'])\n",
    "plt.ylabel('# of Entries')\n",
    "plt.xlabel('Date')\n",
    "plt.xticks(rotation=45)\n",
    "plt.title('Daily Entries for 57 ST-7 AV Station')"
   ]
  },
  {
   "cell_type": "markdown",
   "id": "fb0c0a2b",
   "metadata": {},
   "source": [
    "#### 34 St Penn Station"
   ]
  },
  {
   "cell_type": "code",
   "execution_count": 39,
   "id": "e33cf76f",
   "metadata": {},
   "outputs": [
    {
     "data": {
      "text/html": [
       "<div>\n",
       "<style scoped>\n",
       "    .dataframe tbody tr th:only-of-type {\n",
       "        vertical-align: middle;\n",
       "    }\n",
       "\n",
       "    .dataframe tbody tr th {\n",
       "        vertical-align: top;\n",
       "    }\n",
       "\n",
       "    .dataframe thead th {\n",
       "        text-align: right;\n",
       "    }\n",
       "</style>\n",
       "<table border=\"1\" class=\"dataframe\">\n",
       "  <thead>\n",
       "    <tr style=\"text-align: right;\">\n",
       "      <th></th>\n",
       "      <th>STATION</th>\n",
       "      <th>DATE</th>\n",
       "      <th>DAILY_ENTRIES</th>\n",
       "    </tr>\n",
       "  </thead>\n",
       "  <tbody>\n",
       "    <tr>\n",
       "      <th>8479</th>\n",
       "      <td>34 ST-PENN STA</td>\n",
       "      <td>2019-12-29</td>\n",
       "      <td>100131.0</td>\n",
       "    </tr>\n",
       "    <tr>\n",
       "      <th>8480</th>\n",
       "      <td>34 ST-PENN STA</td>\n",
       "      <td>2019-12-30</td>\n",
       "      <td>87920.0</td>\n",
       "    </tr>\n",
       "    <tr>\n",
       "      <th>8481</th>\n",
       "      <td>34 ST-PENN STA</td>\n",
       "      <td>2019-12-31</td>\n",
       "      <td>143140.0</td>\n",
       "    </tr>\n",
       "    <tr>\n",
       "      <th>8482</th>\n",
       "      <td>34 ST-PENN STA</td>\n",
       "      <td>2020-01-01</td>\n",
       "      <td>128147.0</td>\n",
       "    </tr>\n",
       "    <tr>\n",
       "      <th>8483</th>\n",
       "      <td>34 ST-PENN STA</td>\n",
       "      <td>2020-01-02</td>\n",
       "      <td>64273.0</td>\n",
       "    </tr>\n",
       "  </tbody>\n",
       "</table>\n",
       "</div>"
      ],
      "text/plain": [
       "             STATION       DATE  DAILY_ENTRIES\n",
       "8479  34 ST-PENN STA 2019-12-29       100131.0\n",
       "8480  34 ST-PENN STA 2019-12-30        87920.0\n",
       "8481  34 ST-PENN STA 2019-12-31       143140.0\n",
       "8482  34 ST-PENN STA 2020-01-01       128147.0\n",
       "8483  34 ST-PENN STA 2020-01-02        64273.0"
      ]
     },
     "execution_count": 39,
     "metadata": {},
     "output_type": "execute_result"
    }
   ],
   "source": [
    "station_daily_34Penn = station_daily[station_daily['STATION'] == '34 ST-PENN STA']\n",
    "station_daily_34Penn.head()"
   ]
  },
  {
   "cell_type": "markdown",
   "id": "214d6060",
   "metadata": {},
   "source": [
    "### Counts For One Week / One Station \n",
    "Make one list of counts for one week for one station. Monday's count, Tuesday's count, etc. so it's a list of 7 counts. Make the same list for another week, and another week, and another week. (hint: pandas datetime day of week may be useful)\n",
    "\n",
    "plt.plot(week_count_list) for every week_count_list you created this way. You should get a rainbow plot of weekly commute numbers on top of each other."
   ]
  },
  {
   "cell_type": "code",
   "execution_count": 40,
   "id": "1007ddaa",
   "metadata": {},
   "outputs": [],
   "source": [
    "import numpy as np"
   ]
  },
  {
   "cell_type": "markdown",
   "id": "bfa2a3ae",
   "metadata": {},
   "source": [
    "#### 57 Ave Station"
   ]
  },
  {
   "cell_type": "code",
   "execution_count": 41,
   "id": "922a0de6",
   "metadata": {},
   "outputs": [
    {
     "name": "stderr",
     "output_type": "stream",
     "text": [
      "/var/folders/_0/21d2kw097h912yp8tr3nkrsm0000gn/T/ipykernel_90403/3233257827.py:1: SettingWithCopyWarning: \n",
      "A value is trying to be set on a copy of a slice from a DataFrame.\n",
      "Try using .loc[row_indexer,col_indexer] = value instead\n",
      "\n",
      "See the caveats in the documentation: https://pandas.pydata.org/pandas-docs/stable/user_guide/indexing.html#returning-a-view-versus-a-copy\n",
      "  station_daily_57_av['DAY_OF_WEEK_NUM'] = pd.to_datetime(station_daily_57_av['DATE']).dt.dayofweek\n",
      "/var/folders/_0/21d2kw097h912yp8tr3nkrsm0000gn/T/ipykernel_90403/3233257827.py:2: FutureWarning: Series.dt.weekofyear and Series.dt.week have been deprecated. Please use Series.dt.isocalendar().week instead.\n",
      "  station_daily_57_av['WEEK_OF_YEAR'] = pd.to_datetime(station_daily_57_av['DATE']).dt.week\n",
      "/var/folders/_0/21d2kw097h912yp8tr3nkrsm0000gn/T/ipykernel_90403/3233257827.py:2: SettingWithCopyWarning: \n",
      "A value is trying to be set on a copy of a slice from a DataFrame.\n",
      "Try using .loc[row_indexer,col_indexer] = value instead\n",
      "\n",
      "See the caveats in the documentation: https://pandas.pydata.org/pandas-docs/stable/user_guide/indexing.html#returning-a-view-versus-a-copy\n",
      "  station_daily_57_av['WEEK_OF_YEAR'] = pd.to_datetime(station_daily_57_av['DATE']).dt.week\n"
     ]
    },
    {
     "data": {
      "text/html": [
       "<div>\n",
       "<style scoped>\n",
       "    .dataframe tbody tr th:only-of-type {\n",
       "        vertical-align: middle;\n",
       "    }\n",
       "\n",
       "    .dataframe tbody tr th {\n",
       "        vertical-align: top;\n",
       "    }\n",
       "\n",
       "    .dataframe thead th {\n",
       "        text-align: right;\n",
       "    }\n",
       "</style>\n",
       "<table border=\"1\" class=\"dataframe\">\n",
       "  <thead>\n",
       "    <tr style=\"text-align: right;\">\n",
       "      <th></th>\n",
       "      <th>STATION</th>\n",
       "      <th>DATE</th>\n",
       "      <th>DAILY_ENTRIES</th>\n",
       "      <th>DAY_OF_WEEK_NUM</th>\n",
       "      <th>WEEK_OF_YEAR</th>\n",
       "    </tr>\n",
       "  </thead>\n",
       "  <tbody>\n",
       "    <tr>\n",
       "      <th>11676</th>\n",
       "      <td>57 ST-7 AV</td>\n",
       "      <td>2019-12-29</td>\n",
       "      <td>21314.0</td>\n",
       "      <td>6</td>\n",
       "      <td>52</td>\n",
       "    </tr>\n",
       "    <tr>\n",
       "      <th>11677</th>\n",
       "      <td>57 ST-7 AV</td>\n",
       "      <td>2019-12-30</td>\n",
       "      <td>16338.0</td>\n",
       "      <td>0</td>\n",
       "      <td>1</td>\n",
       "    </tr>\n",
       "    <tr>\n",
       "      <th>11678</th>\n",
       "      <td>57 ST-7 AV</td>\n",
       "      <td>2019-12-31</td>\n",
       "      <td>27550.0</td>\n",
       "      <td>1</td>\n",
       "      <td>1</td>\n",
       "    </tr>\n",
       "    <tr>\n",
       "      <th>11679</th>\n",
       "      <td>57 ST-7 AV</td>\n",
       "      <td>2020-01-01</td>\n",
       "      <td>22820.0</td>\n",
       "      <td>2</td>\n",
       "      <td>1</td>\n",
       "    </tr>\n",
       "    <tr>\n",
       "      <th>11680</th>\n",
       "      <td>57 ST-7 AV</td>\n",
       "      <td>2020-01-02</td>\n",
       "      <td>14557.0</td>\n",
       "      <td>3</td>\n",
       "      <td>1</td>\n",
       "    </tr>\n",
       "  </tbody>\n",
       "</table>\n",
       "</div>"
      ],
      "text/plain": [
       "          STATION       DATE  DAILY_ENTRIES  DAY_OF_WEEK_NUM  WEEK_OF_YEAR\n",
       "11676  57 ST-7 AV 2019-12-29        21314.0                6            52\n",
       "11677  57 ST-7 AV 2019-12-30        16338.0                0             1\n",
       "11678  57 ST-7 AV 2019-12-31        27550.0                1             1\n",
       "11679  57 ST-7 AV 2020-01-01        22820.0                2             1\n",
       "11680  57 ST-7 AV 2020-01-02        14557.0                3             1"
      ]
     },
     "execution_count": 41,
     "metadata": {},
     "output_type": "execute_result"
    }
   ],
   "source": [
    "station_daily_57_av['DAY_OF_WEEK_NUM'] = pd.to_datetime(station_daily_57_av['DATE']).dt.dayofweek\n",
    "station_daily_57_av['WEEK_OF_YEAR'] = pd.to_datetime(station_daily_57_av['DATE']).dt.week\n",
    "station_daily_57_av.head()"
   ]
  },
  {
   "cell_type": "code",
   "execution_count": 42,
   "id": "703f61f3",
   "metadata": {},
   "outputs": [
    {
     "data": {
      "text/plain": [
       "Text(0.5, 1.0, 'Ridership per day for 57 ST-7 AV station')"
      ]
     },
     "execution_count": 42,
     "metadata": {},
     "output_type": "execute_result"
    },
    {
     "data": {
      "image/png": "[encoded data removed]",
      "text/plain": [
       "<Figure size 432x288 with 1 Axes>"
      ]
     },
     "metadata": {
      "needs_background": "light"
     },
     "output_type": "display_data"
    }
   ],
   "source": [
    "for i, group in station_daily_57_av.groupby('WEEK_OF_YEAR'):\n",
    "    plt.plot(group['DAY_OF_WEEK_NUM'], group['DAILY_ENTRIES'])\n",
    "    \n",
    "plt.xlabel('Day of the week')\n",
    "plt.ylabel('Number of turnstile entries')\n",
    "plt.xticks(np.arange(7),['Mo','Tu','We','Th','Fr','St','Sn'])\n",
    "plt.title('Ridership per day for 57 ST-7 AV station')"
   ]
  },
  {
   "cell_type": "markdown",
   "id": "9c9bd117",
   "metadata": {},
   "source": [
    "#### 34 St Penn Station"
   ]
  },
  {
   "cell_type": "code",
   "execution_count": 43,
   "id": "d8260690",
   "metadata": {},
   "outputs": [
    {
     "name": "stderr",
     "output_type": "stream",
     "text": [
      "/var/folders/_0/21d2kw097h912yp8tr3nkrsm0000gn/T/ipykernel_90403/1911361728.py:1: SettingWithCopyWarning: \n",
      "A value is trying to be set on a copy of a slice from a DataFrame.\n",
      "Try using .loc[row_indexer,col_indexer] = value instead\n",
      "\n",
      "See the caveats in the documentation: https://pandas.pydata.org/pandas-docs/stable/user_guide/indexing.html#returning-a-view-versus-a-copy\n",
      "  station_daily_34Penn['DAY_OF_WEEK_NUM'] = pd.to_datetime(station_daily_34Penn['DATE']).dt.dayofweek\n",
      "/var/folders/_0/21d2kw097h912yp8tr3nkrsm0000gn/T/ipykernel_90403/1911361728.py:2: FutureWarning: Series.dt.weekofyear and Series.dt.week have been deprecated. Please use Series.dt.isocalendar().week instead.\n",
      "  station_daily_34Penn['WEEK_OF_YEAR'] = pd.to_datetime(station_daily_34Penn['DATE']).dt.week\n",
      "/var/folders/_0/21d2kw097h912yp8tr3nkrsm0000gn/T/ipykernel_90403/1911361728.py:2: SettingWithCopyWarning: \n",
      "A value is trying to be set on a copy of a slice from a DataFrame.\n",
      "Try using .loc[row_indexer,col_indexer] = value instead\n",
      "\n",
      "See the caveats in the documentation: https://pandas.pydata.org/pandas-docs/stable/user_guide/indexing.html#returning-a-view-versus-a-copy\n",
      "  station_daily_34Penn['WEEK_OF_YEAR'] = pd.to_datetime(station_daily_34Penn['DATE']).dt.week\n"
     ]
    },
    {
     "data": {
      "text/html": [
       "<div>\n",
       "<style scoped>\n",
       "    .dataframe tbody tr th:only-of-type {\n",
       "        vertical-align: middle;\n",
       "    }\n",
       "\n",
       "    .dataframe tbody tr th {\n",
       "        vertical-align: top;\n",
       "    }\n",
       "\n",
       "    .dataframe thead th {\n",
       "        text-align: right;\n",
       "    }\n",
       "</style>\n",
       "<table border=\"1\" class=\"dataframe\">\n",
       "  <thead>\n",
       "    <tr style=\"text-align: right;\">\n",
       "      <th></th>\n",
       "      <th>STATION</th>\n",
       "      <th>DATE</th>\n",
       "      <th>DAILY_ENTRIES</th>\n",
       "      <th>DAY_OF_WEEK_NUM</th>\n",
       "      <th>WEEK_OF_YEAR</th>\n",
       "    </tr>\n",
       "  </thead>\n",
       "  <tbody>\n",
       "    <tr>\n",
       "      <th>8479</th>\n",
       "      <td>34 ST-PENN STA</td>\n",
       "      <td>2019-12-29</td>\n",
       "      <td>100131.0</td>\n",
       "      <td>6</td>\n",
       "      <td>52</td>\n",
       "    </tr>\n",
       "    <tr>\n",
       "      <th>8480</th>\n",
       "      <td>34 ST-PENN STA</td>\n",
       "      <td>2019-12-30</td>\n",
       "      <td>87920.0</td>\n",
       "      <td>0</td>\n",
       "      <td>1</td>\n",
       "    </tr>\n",
       "    <tr>\n",
       "      <th>8481</th>\n",
       "      <td>34 ST-PENN STA</td>\n",
       "      <td>2019-12-31</td>\n",
       "      <td>143140.0</td>\n",
       "      <td>1</td>\n",
       "      <td>1</td>\n",
       "    </tr>\n",
       "    <tr>\n",
       "      <th>8482</th>\n",
       "      <td>34 ST-PENN STA</td>\n",
       "      <td>2020-01-01</td>\n",
       "      <td>128147.0</td>\n",
       "      <td>2</td>\n",
       "      <td>1</td>\n",
       "    </tr>\n",
       "    <tr>\n",
       "      <th>8483</th>\n",
       "      <td>34 ST-PENN STA</td>\n",
       "      <td>2020-01-02</td>\n",
       "      <td>64273.0</td>\n",
       "      <td>3</td>\n",
       "      <td>1</td>\n",
       "    </tr>\n",
       "  </tbody>\n",
       "</table>\n",
       "</div>"
      ],
      "text/plain": [
       "             STATION       DATE  DAILY_ENTRIES  DAY_OF_WEEK_NUM  WEEK_OF_YEAR\n",
       "8479  34 ST-PENN STA 2019-12-29       100131.0                6            52\n",
       "8480  34 ST-PENN STA 2019-12-30        87920.0                0             1\n",
       "8481  34 ST-PENN STA 2019-12-31       143140.0                1             1\n",
       "8482  34 ST-PENN STA 2020-01-01       128147.0                2             1\n",
       "8483  34 ST-PENN STA 2020-01-02        64273.0                3             1"
      ]
     },
     "execution_count": 43,
     "metadata": {},
     "output_type": "execute_result"
    }
   ],
   "source": [
    "station_daily_34Penn['DAY_OF_WEEK_NUM'] = pd.to_datetime(station_daily_34Penn['DATE']).dt.dayofweek\n",
    "station_daily_34Penn['WEEK_OF_YEAR'] = pd.to_datetime(station_daily_34Penn['DATE']).dt.week\n",
    "station_daily_34Penn.head()"
   ]
  },
  {
   "cell_type": "markdown",
   "id": "0b84cf59",
   "metadata": {},
   "source": [
    "#### Assigning Day Name"
   ]
  },
  {
   "cell_type": "code",
   "execution_count": 44,
   "id": "9e17f1e3",
   "metadata": {},
   "outputs": [
    {
     "data": {
      "text/plain": [
       "8479       Sunday\n",
       "8480       Monday\n",
       "8481      Tuesday\n",
       "8482    Wednesday\n",
       "8483     Thursday\n",
       "Name: DATE, dtype: object"
      ]
     },
     "execution_count": 44,
     "metadata": {},
     "output_type": "execute_result"
    }
   ],
   "source": [
    "day_name = station_daily_34Penn['DATE'].dt.day_name()\n",
    "day_name.head()"
   ]
  },
  {
   "cell_type": "markdown",
   "id": "05467f9e",
   "metadata": {},
   "source": [
    "#### Get Entries By Day of Week By Specific Station"
   ]
  },
  {
   "cell_type": "code",
   "execution_count": 45,
   "id": "7863f8c3",
   "metadata": {},
   "outputs": [
    {
     "data": {
      "text/html": [
       "<div>\n",
       "<style scoped>\n",
       "    .dataframe tbody tr th:only-of-type {\n",
       "        vertical-align: middle;\n",
       "    }\n",
       "\n",
       "    .dataframe tbody tr th {\n",
       "        vertical-align: top;\n",
       "    }\n",
       "\n",
       "    .dataframe thead th {\n",
       "        text-align: right;\n",
       "    }\n",
       "</style>\n",
       "<table border=\"1\" class=\"dataframe\">\n",
       "  <thead>\n",
       "    <tr style=\"text-align: right;\">\n",
       "      <th></th>\n",
       "      <th>DAY_NAME</th>\n",
       "      <th>STATION</th>\n",
       "      <th>DAY_OF_WEEK_NUM</th>\n",
       "      <th>DAILY_ENTRIES</th>\n",
       "    </tr>\n",
       "  </thead>\n",
       "  <tbody>\n",
       "    <tr>\n",
       "      <th>1</th>\n",
       "      <td>Monday</td>\n",
       "      <td>34 ST-PENN STA</td>\n",
       "      <td>0</td>\n",
       "      <td>891274.0</td>\n",
       "    </tr>\n",
       "    <tr>\n",
       "      <th>5</th>\n",
       "      <td>Tuesday</td>\n",
       "      <td>34 ST-PENN STA</td>\n",
       "      <td>1</td>\n",
       "      <td>1942340.0</td>\n",
       "    </tr>\n",
       "    <tr>\n",
       "      <th>6</th>\n",
       "      <td>Wednesday</td>\n",
       "      <td>34 ST-PENN STA</td>\n",
       "      <td>2</td>\n",
       "      <td>2133421.0</td>\n",
       "    </tr>\n",
       "    <tr>\n",
       "      <th>4</th>\n",
       "      <td>Thursday</td>\n",
       "      <td>34 ST-PENN STA</td>\n",
       "      <td>3</td>\n",
       "      <td>2056159.0</td>\n",
       "    </tr>\n",
       "    <tr>\n",
       "      <th>0</th>\n",
       "      <td>Friday</td>\n",
       "      <td>34 ST-PENN STA</td>\n",
       "      <td>4</td>\n",
       "      <td>2141911.0</td>\n",
       "    </tr>\n",
       "    <tr>\n",
       "      <th>2</th>\n",
       "      <td>Saturday</td>\n",
       "      <td>34 ST-PENN STA</td>\n",
       "      <td>5</td>\n",
       "      <td>1982287.0</td>\n",
       "    </tr>\n",
       "    <tr>\n",
       "      <th>3</th>\n",
       "      <td>Sunday</td>\n",
       "      <td>34 ST-PENN STA</td>\n",
       "      <td>6</td>\n",
       "      <td>1048951.0</td>\n",
       "    </tr>\n",
       "  </tbody>\n",
       "</table>\n",
       "</div>"
      ],
      "text/plain": [
       "    DAY_NAME         STATION  DAY_OF_WEEK_NUM  DAILY_ENTRIES\n",
       "1     Monday  34 ST-PENN STA                0       891274.0\n",
       "5    Tuesday  34 ST-PENN STA                1      1942340.0\n",
       "6  Wednesday  34 ST-PENN STA                2      2133421.0\n",
       "4   Thursday  34 ST-PENN STA                3      2056159.0\n",
       "0     Friday  34 ST-PENN STA                4      2141911.0\n",
       "2   Saturday  34 ST-PENN STA                5      1982287.0\n",
       "3     Sunday  34 ST-PENN STA                6      1048951.0"
      ]
     },
     "execution_count": 45,
     "metadata": {},
     "output_type": "execute_result"
    }
   ],
   "source": [
    "test_df = station_daily_34Penn.copy()\n",
    "test_df['DAY_NAME'] = test_df['DATE'].dt.day_name()\n",
    "test_df2 = test_df.groupby([\"DAY_NAME\", \"STATION\", \"DAY_OF_WEEK_NUM\"]).DAILY_ENTRIES.sum().reset_index()\n",
    "test_df2.sort_values(\"DAY_OF_WEEK_NUM\", ascending = True, inplace = True)\n",
    "\n",
    "test_df2"
   ]
  },
  {
   "cell_type": "code",
   "execution_count": null,
   "id": "3299a122",
   "metadata": {},
   "outputs": [],
   "source": []
  },
  {
   "cell_type": "markdown",
   "id": "8aa11486",
   "metadata": {},
   "source": [
    "#### Order Days so they can be visualized properly"
   ]
  },
  {
   "cell_type": "code",
   "execution_count": 46,
   "id": "6d2cd810",
   "metadata": {},
   "outputs": [
    {
     "name": "stderr",
     "output_type": "stream",
     "text": [
      "/var/folders/_0/21d2kw097h912yp8tr3nkrsm0000gn/T/ipykernel_90403/1292348338.py:6: UserWarning: FixedFormatter should only be used together with FixedLocator\n",
      "  plt.gca().set_yticklabels(['{:,.0f}'.format(y) for y in current_values])\n"
     ]
    },
    {
     "data": {
      "text/plain": [
       "([0, 1, 2, 3, 4, 5, 6],\n",
       " [Text(0, 0, ''),\n",
       "  Text(0, 0, ''),\n",
       "  Text(0, 0, ''),\n",
       "  Text(0, 0, ''),\n",
       "  Text(0, 0, ''),\n",
       "  Text(0, 0, ''),\n",
       "  Text(0, 0, '')])"
      ]
     },
     "execution_count": 46,
     "metadata": {},
     "output_type": "execute_result"
    },
    {
     "data": {
      "image/png": "[encoded data removed]",
      "text/plain": [
       "<Figure size 432x288 with 1 Axes>"
      ]
     },
     "metadata": {
      "needs_background": "light"
     },
     "output_type": "display_data"
    }
   ],
   "source": [
    "plt.bar(x=test_df2['DAY_NAME'], height=test_df2['DAILY_ENTRIES'])\n",
    "#after plotting the data, format the labels\n",
    "current_values = plt.gca().get_yticks()\n",
    "# using format string '{:.0f}' here but you can choose others\n",
    "plt.title('Entries By Day of Week: 34St-Penn Station')\n",
    "plt.gca().set_yticklabels(['{:,.0f}'.format(y) for y in current_values])\n",
    "plt.xticks(rotation=90)"
   ]
  },
  {
   "cell_type": "markdown",
   "id": "6abe4ddc",
   "metadata": {},
   "source": [
    "### To get an idea about the distribution of total ridership among different stations\n",
    "Make a single list of these total ridership values and plot it with\n",
    "\n",
    "plt.hist(total_ridership_counts)\n",
    "to get an idea about the distribution of total ridership among different stations.\n",
    "\n",
    "This should show you that most stations have a small traffic, and the histogram bins for large traffic volumes have small bars.\n",
    "\n",
    "Additional Hint:\n",
    "\n",
    "If you want to see which stations take the meat of the traffic, you can sort the total ridership counts and make a plt.bar graph. For this, you want to have two lists: the indices of each bar, and the values. The indices can just be 0,1,2,3,..., so you can do\n",
    "\n",
    "indices = range(len(total_ridership_values))\n",
    "plt.bar(indices, total_ridership_values)"
   ]
  },
  {
   "cell_type": "code",
   "execution_count": 47,
   "id": "1082bc4d",
   "metadata": {},
   "outputs": [
    {
     "name": "stderr",
     "output_type": "stream",
     "text": [
      "/var/folders/_0/21d2kw097h912yp8tr3nkrsm0000gn/T/ipykernel_90403/3165013894.py:2: UserWarning: FixedFormatter should only be used together with FixedLocator\n",
      "  plt.gca().set_yticklabels(['{:,.0f}'.format(x) for x in current_values])\n"
     ]
    },
    {
     "data": {
      "text/plain": [
       "[Text(0, 0.0, '0'),\n",
       " Text(0, 50.0, '250,000'),\n",
       " Text(0, 100.0, '500,000'),\n",
       " Text(0, 150.0, '750,000'),\n",
       " Text(0, 200.0, '1,000,000'),\n",
       " Text(0, 250.0, '1,250,000'),\n",
       " Text(0, 300.0, '1,500,000')]"
      ]
     },
     "execution_count": 47,
     "metadata": {},
     "output_type": "execute_result"
    },
    {
     "data": {
      "image/png": "[encoded data removed]",
      "text/plain": [
       "<Figure size 432x288 with 1 Axes>"
      ]
     },
     "metadata": {
      "needs_background": "light"
     },
     "output_type": "display_data"
    }
   ],
   "source": [
    "plt.hist(station_totals['DAILY_ENTRIES'])\n",
    "plt.gca().set_yticklabels(['{:,.0f}'.format(x) for x in current_values])"
   ]
  },
  {
   "cell_type": "markdown",
   "id": "5cd94195",
   "metadata": {},
   "source": [
    "### View Top Ten Stations"
   ]
  },
  {
   "cell_type": "code",
   "execution_count": 48,
   "id": "4a3db6af",
   "metadata": {},
   "outputs": [
    {
     "data": {
      "text/plain": [
       "([0, 1, 2, 3, 4, 5, 6, 7, 8, 9],\n",
       " [Text(0, 0, ''),\n",
       "  Text(0, 0, ''),\n",
       "  Text(0, 0, ''),\n",
       "  Text(0, 0, ''),\n",
       "  Text(0, 0, ''),\n",
       "  Text(0, 0, ''),\n",
       "  Text(0, 0, ''),\n",
       "  Text(0, 0, ''),\n",
       "  Text(0, 0, ''),\n",
       "  Text(0, 0, '')])"
      ]
     },
     "execution_count": 48,
     "metadata": {},
     "output_type": "execute_result"
    },
    {
     "data": {
      "image/png": "[encoded data removed]",
      "text/plain": [
       "<Figure size 432x288 with 1 Axes>"
      ]
     },
     "metadata": {
      "needs_background": "light"
     },
     "output_type": "display_data"
    }
   ],
   "source": [
    "plt.bar(x=station_totals['STATION'][:10], height=station_totals['DAILY_ENTRIES'][:10])\n",
    "plt.xticks(rotation=90)"
   ]
  },
  {
   "cell_type": "code",
   "execution_count": null,
   "id": "234cc808",
   "metadata": {},
   "outputs": [],
   "source": []
  },
  {
   "cell_type": "code",
   "execution_count": null,
   "id": "6b9cff04",
   "metadata": {},
   "outputs": [],
   "source": []
  }
 ],
 "metadata": {
  "kernelspec": {
   "display_name": "Python 3 (ipykernel)",
   "language": "python",
   "name": "python3"
  },
  "language_info": {
   "codemirror_mode": {
    "name": "ipython",
    "version": 3
   },
   "file_extension": ".py",
   "mimetype": "text/x-python",
   "name": "python",
   "nbconvert_exporter": "python",
   "pygments_lexer": "ipython3",
   "version": "3.10.4"
  }
 },
 "nbformat": 4,
 "nbformat_minor": 5
}
